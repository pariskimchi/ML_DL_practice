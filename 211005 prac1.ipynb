{
 "cells": [
  {
   "cell_type": "code",
   "execution_count": 1,
   "id": "ad5e6ae4",
   "metadata": {},
   "outputs": [],
   "source": [
    "import numpy as np\n",
    "import pandas as pd \n",
    "import seaborn as sns"
   ]
  },
  {
   "cell_type": "code",
   "execution_count": 2,
   "id": "6762d450",
   "metadata": {},
   "outputs": [],
   "source": [
    "df = sns.load_dataset('titanic')\n",
    "df1 = sns.load_dataset('titanic')"
   ]
  },
  {
   "cell_type": "code",
   "execution_count": null,
   "id": "bc18d079",
   "metadata": {},
   "outputs": [],
   "source": [
    "# best_params \n",
    "#best_score \n",
    "#best_estimator_\n",
    "#get_params()"
   ]
  },
  {
   "cell_type": "code",
   "execution_count": null,
   "id": "cba01470",
   "metadata": {},
   "outputs": [],
   "source": [
    "# 평가 지표는 정확도"
   ]
  },
  {
   "cell_type": "code",
   "execution_count": 3,
   "id": "29a506e9",
   "metadata": {},
   "outputs": [],
   "source": [
    "#pd.DataFrame(confusion_matrix(y_test, best_predictions))\n"
   ]
  },
  {
   "cell_type": "code",
   "execution_count": 4,
   "id": "0298c2ee",
   "metadata": {},
   "outputs": [],
   "source": [
    "#1. 52:0 (정상)이라고 예측, 정답이 0(정상)인 경우, True, Negative TN\n",
    "#2. 26: 1 (암)이라고 예측, 정답이 1 (암)인 경우, True Positive TP\n",
    "#3. 5:1 (암)이라고 예측, 정답이 0(정상)인 경우, False Positive FP\n",
    "#4. 7:0 (정상)이라고 예측, 정답이 1(암)인 경우, False Negative FN\n"
   ]
  },
  {
   "cell_type": "code",
   "execution_count": 6,
   "id": "cc9ec6d8",
   "metadata": {},
   "outputs": [],
   "source": [
    "# 정확도 = (TN+Tp) / (TN+TP+FN+Fp)\n",
    "# 정밀도 (precision) = Tp / (Fp+Tp, Positive로 예측한 모든 경우의 수 )\n",
    "# 재현율 (Recall) = TP/ (Fn+Tp)\n",
    "# 암환자 예측 Recall 중요 \n",
    "# 보이스피싱 예측 \n",
    "# 보이스피싱 예측, 1 사기, 0 사기 x ,fp=> 사기라고 예측 아닌경우 \n",
    "# FN 사기가 아니라고 예측, 사기인 경우 \n",
    "\n",
    "# FN 이 위험하므로=> FN 이들어간 재현율이 중요 \n"
   ]
  },
  {
   "cell_type": "code",
   "execution_count": null,
   "id": "208d7dff",
   "metadata": {},
   "outputs": [],
   "source": [
    "# 유죄인 경우, 1 유죄 0 무죄 \n",
    "# 유죄라고 예측됏는데, 사실 무죄인 경우가 중요 False Positive 가 중요하므로 \n",
    "# 정밀도가 중요 \n",
    "\n",
    "# 스팸메일 예측, 1spam, 0 일반\n",
    "# 스팸 예측, 사실 일반인경우, False Psotivie가 중요\n"
   ]
  },
  {
   "cell_type": "code",
   "execution_count": 8,
   "id": "631b60f2",
   "metadata": {},
   "outputs": [],
   "source": [
    "from sklearn.metrics import accuracy_score, precision_score, recall_score\n"
   ]
  },
  {
   "cell_type": "code",
   "execution_count": 9,
   "id": "6f838cc2",
   "metadata": {},
   "outputs": [],
   "source": [
    "# confusion_matrix 평가 \n",
    "def clf_eval(y_test, pred):\n",
    "    confusion = confusion_matrix(y_test, pred)\n",
    "    accuracy = accuracy_score(y_test, pred)\n",
    "    precision = precision_score(y_test, pred)\n",
    "    recall = recall_score(y_test, pred)\n",
    "    print('***** Confusion Matrix*****')\n",
    "    print(confusion)\n",
    "    print('정확도 : {0:.4f}, 정밀도:{1:.4f}, 재현율:{2:.4f}'.format(accuracy,precision,recall))"
   ]
  },
  {
   "cell_type": "code",
   "execution_count": 10,
   "id": "70edc865",
   "metadata": {},
   "outputs": [],
   "source": [
    "# lr_clf = LogisticRegression()\n",
    "# lr_clf.fit(x_train, y_train)\n",
    "# lr_pred = lr_clf.predict(x_test)"
   ]
  },
  {
   "cell_type": "code",
   "execution_count": null,
   "id": "e0d72f3b",
   "metadata": {},
   "outputs": [],
   "source": [
    "#lr_clf.predict(x_test)\n",
    "#lr_clf.predict_proba(x_test) => 확률로 \n"
   ]
  },
  {
   "cell_type": "code",
   "execution_count": 13,
   "id": "c93a7432",
   "metadata": {},
   "outputs": [],
   "source": [
    "from sklearn.preprocessing import Binarizer \n",
    "binarizer = Binarizer(threshold=0.5)\n"
   ]
  },
  {
   "cell_type": "code",
   "execution_count": 14,
   "id": "85ba446b",
   "metadata": {},
   "outputs": [
    {
     "data": {
      "text/plain": [
       "array([[0., 1., 1., 1.]])"
      ]
     },
     "execution_count": 14,
     "metadata": {},
     "output_type": "execute_result"
    }
   ],
   "source": [
    "binarizer.fit_transform([[0.3, 0.8, 1.1, 5]])"
   ]
  },
  {
   "cell_type": "code",
   "execution_count": null,
   "id": "59f6a902",
   "metadata": {},
   "outputs": [],
   "source": [
    "# threshold를 0~1까지 0.1 단위로 변환하면서 \n",
    "# 정확도, 정밀도, 재현율을 확인 \n",
    "\n"
   ]
  },
  {
   "cell_type": "code",
   "execution_count": null,
   "id": "89a3f01e",
   "metadata": {},
   "outputs": [],
   "source": [
    "#F1 score \n",
    "#f1 = 2* (precision * recall) / (precision+recall)\n",
    "#f1 = f1_score(y_test, pred)\n"
   ]
  },
  {
   "cell_type": "code",
   "execution_count": 16,
   "id": "ab6a5004",
   "metadata": {},
   "outputs": [],
   "source": [
    "# ROC AUC ?\n",
    "# y축: TPR 높아야 \n",
    "# x축: FPR 낮춰야 \n",
    "# FPR = FP/ (FP + TN)\n",
    "# => False positive rate = False positive / (false Positive + true negative)\n",
    "# => 실질적으로 음성인 모든 경우에서, 실제로는 음성이지만 양성으로 분류된 경우 \n"
   ]
  },
  {
   "cell_type": "code",
   "execution_count": 17,
   "id": "b05642d7",
   "metadata": {},
   "outputs": [],
   "source": [
    "from sklearn.metrics import roc_curve"
   ]
  },
  {
   "cell_type": "code",
   "execution_count": 19,
   "id": "c21f09f8",
   "metadata": {
    "scrolled": false
   },
   "outputs": [],
   "source": [
    "# fprs, tprs, thresholds = roc_curve(y_test, pred_proba)"
   ]
  },
  {
   "cell_type": "code",
   "execution_count": null,
   "id": "4b40690b",
   "metadata": {},
   "outputs": [],
   "source": [
    "# plt.plot(fprs, tprs)\n",
    "#plt.plot([0,1],[0,1],'k--')\n",
    "#plt.show()"
   ]
  },
  {
   "cell_type": "code",
   "execution_count": 20,
   "id": "51217ad6",
   "metadata": {},
   "outputs": [],
   "source": [
    "# auc =>가 커브 아래 면적값\n",
    "# => Area Under Curve Score \n",
    "# auc 면적 크기 구하면 머신러닝 사이클 1번 끝나는거 \n",
    "# => 어떻게 구하냐?\n"
   ]
  },
  {
   "cell_type": "code",
   "execution_count": 21,
   "id": "ba571595",
   "metadata": {},
   "outputs": [],
   "source": [
    "from sklearn.metrics import roc_auc_score "
   ]
  },
  {
   "cell_type": "code",
   "execution_count": null,
   "id": "980551d4",
   "metadata": {},
   "outputs": [],
   "source": [
    "# roc_auc_score(y_test, pred_proba)"
   ]
  }
 ],
 "metadata": {
  "kernelspec": {
   "display_name": "Python 3 (ipykernel)",
   "language": "python",
   "name": "python3"
  },
  "language_info": {
   "codemirror_mode": {
    "name": "ipython",
    "version": 3
   },
   "file_extension": ".py",
   "mimetype": "text/x-python",
   "name": "python",
   "nbconvert_exporter": "python",
   "pygments_lexer": "ipython3",
   "version": "3.8.11"
  }
 },
 "nbformat": 4,
 "nbformat_minor": 5
}
