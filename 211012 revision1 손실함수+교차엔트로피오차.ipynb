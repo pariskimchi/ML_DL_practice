{
 "cells": [
  {
   "cell_type": "code",
   "execution_count": 1,
   "id": "29b32ccf",
   "metadata": {},
   "outputs": [],
   "source": [
    "import numpy as np\n",
    "import pandas as pd \n",
    "import matplotlib.pyplot as plt \n",
    "from dataset.mnist import load_mnist"
   ]
  },
  {
   "cell_type": "markdown",
   "id": "35c9c7e1",
   "metadata": {},
   "source": [
    "## 신경망 학습"
   ]
  },
  {
   "cell_type": "code",
   "execution_count": null,
   "id": "7ca6e786",
   "metadata": {},
   "outputs": [],
   "source": []
  },
  {
   "cell_type": "markdown",
   "id": "0031f695",
   "metadata": {},
   "source": [
    "### 손실함수란?\n",
    "    1. 오차제곱합 SSE(sum of square for error) \n",
    "    2. 교차 엔트로피 오차  CEE(cross entropy error)"
   ]
  },
  {
   "cell_type": "markdown",
   "id": "4aab7153",
   "metadata": {},
   "source": [
    "### 1. 오차제곱합 SSE"
   ]
  },
  {
   "cell_type": "code",
   "execution_count": 5,
   "id": "40d0e2b1",
   "metadata": {},
   "outputs": [],
   "source": [
    "# y => 신경망의 출력(신경망이 추정한 값)\n",
    "y = [0.1, 0.05, 0.6, 0.0, 0.05, 0.1, 0.0, 0.1, 0.0, 0.0]"
   ]
  },
  {
   "cell_type": "code",
   "execution_count": 6,
   "id": "71181b8b",
   "metadata": {},
   "outputs": [
    {
     "data": {
      "text/plain": [
       "10"
      ]
     },
     "execution_count": 6,
     "metadata": {},
     "output_type": "execute_result"
    }
   ],
   "source": [
    "len(y)"
   ]
  },
  {
   "cell_type": "code",
   "execution_count": 7,
   "id": "0dbf168a",
   "metadata": {},
   "outputs": [],
   "source": [
    "# 정답 레이블 \n",
    "t = [0,0,1,0,0,0,0,0,0,0]"
   ]
  },
  {
   "cell_type": "code",
   "execution_count": 8,
   "id": "a2384875",
   "metadata": {},
   "outputs": [
    {
     "data": {
      "text/plain": [
       "10"
      ]
     },
     "execution_count": 8,
     "metadata": {},
     "output_type": "execute_result"
    }
   ],
   "source": [
    "len(t)"
   ]
  },
  {
   "cell_type": "code",
   "execution_count": 9,
   "id": "5a33e1b9",
   "metadata": {},
   "outputs": [],
   "source": [
    "# sum square error function \n",
    "def sum_squares_error(y, t):\n",
    "    return 0.5 * np.sum((y-t)**2)"
   ]
  },
  {
   "cell_type": "code",
   "execution_count": 11,
   "id": "acf4ff7e",
   "metadata": {},
   "outputs": [
    {
     "data": {
      "text/plain": [
       "0.09750000000000003"
      ]
     },
     "execution_count": 11,
     "metadata": {},
     "output_type": "execute_result"
    }
   ],
   "source": [
    "# 오차제곱합 구하기\n",
    "sum_squares_error(np.array(y), np.array(t))"
   ]
  },
  {
   "cell_type": "markdown",
   "id": "398f6ee5",
   "metadata": {},
   "source": [
    "#### 위에서 나온 오차제곲합 => 0.0975\n",
    "    => 신경망 출력 y값이 '2'일 확률이 가장 높다고 추정한 y값을 넣었을때 (0.6)"
   ]
  },
  {
   "cell_type": "markdown",
   "id": "484f733a",
   "metadata": {},
   "source": [
    "### '7'일 확률이 가장 높다고 추정한값을 넣을때 오차제곱합을 알아보자 "
   ]
  },
  {
   "cell_type": "code",
   "execution_count": 12,
   "id": "a77ebbe8",
   "metadata": {},
   "outputs": [],
   "source": [
    "y_new = [0.1, 0.05, 0.1, 0.0, 0.05, 0.1, 0.0, 0.6, 0.0, 0.0]"
   ]
  },
  {
   "cell_type": "code",
   "execution_count": 13,
   "id": "84ef2743",
   "metadata": {},
   "outputs": [
    {
     "data": {
      "text/plain": [
       "10"
      ]
     },
     "execution_count": 13,
     "metadata": {},
     "output_type": "execute_result"
    }
   ],
   "source": [
    "len(y_new)"
   ]
  },
  {
   "cell_type": "code",
   "execution_count": 14,
   "id": "ea9421f5",
   "metadata": {},
   "outputs": [
    {
     "data": {
      "text/plain": [
       "0.5975"
      ]
     },
     "execution_count": 14,
     "metadata": {},
     "output_type": "execute_result"
    }
   ],
   "source": [
    "# 오차 제곱합 구하기 \n",
    "sum_squares_error(np.array(y_new), np.array(t))"
   ]
  },
  {
   "cell_type": "markdown",
   "id": "899b0afe",
   "metadata": {},
   "source": [
    "#### '7'일 확률이 가장 높다고 추정한 신경망 출력값 넣었을때는 \n",
    "    => 오차 제곱합이 0.5975로 실제로 정답을 맞춘 위의 오차제곱합 0.0975보다 높다"
   ]
  },
  {
   "cell_type": "code",
   "execution_count": null,
   "id": "295b2325",
   "metadata": {},
   "outputs": [],
   "source": []
  },
  {
   "cell_type": "markdown",
   "id": "2801eb25",
   "metadata": {},
   "source": [
    "### 2. 교차 엔트로피 오차 CEE(cross entropy error)\n",
    "    => 로그함수를 이용한다"
   ]
  },
  {
   "cell_type": "code",
   "execution_count": 15,
   "id": "d3dee3d3",
   "metadata": {},
   "outputs": [],
   "source": [
    "# 교차 엔트로피 오차 \n",
    "def cross_entropy_error(y, t):\n",
    "    delta = 1e-7\n",
    "    return -np.sum(t * np.log(y + delta))"
   ]
  },
  {
   "cell_type": "markdown",
   "id": "6019e492",
   "metadata": {},
   "source": [
    "### t 정답 레이블 => 정답은 2\n"
   ]
  },
  {
   "cell_type": "markdown",
   "id": "e60cccc6",
   "metadata": {},
   "source": [
    "#### 1. 정답일때의 출력 0.6 일때의 신경망 출력값일때 "
   ]
  },
  {
   "cell_type": "code",
   "execution_count": 16,
   "id": "c92af82e",
   "metadata": {},
   "outputs": [
    {
     "data": {
      "text/plain": [
       "0.510825457099338"
      ]
     },
     "execution_count": 16,
     "metadata": {},
     "output_type": "execute_result"
    }
   ],
   "source": [
    "# 교차 엔트로피 오차 구하기 \n",
    "cross_entropy_error(np.array(y), np.array(t))"
   ]
  },
  {
   "cell_type": "markdown",
   "id": "117dd889",
   "metadata": {},
   "source": [
    "#### 2. 정답이 2이지만, 정답을 '7'로 설정한 0.6출력일떄의 신경망일때"
   ]
  },
  {
   "cell_type": "code",
   "execution_count": 17,
   "id": "12a4e412",
   "metadata": {},
   "outputs": [
    {
     "data": {
      "text/plain": [
       "2.302584092994546"
      ]
     },
     "execution_count": 17,
     "metadata": {},
     "output_type": "execute_result"
    }
   ],
   "source": [
    "cross_entropy_error(np.array(y_new), np.array(t))"
   ]
  },
  {
   "cell_type": "markdown",
   "id": "e1849190",
   "metadata": {},
   "source": [
    "#### 0.5108 < 2.3025 로 교차 엔트로피 오차도 높아졌다 오답일때 "
   ]
  },
  {
   "cell_type": "code",
   "execution_count": null,
   "id": "59683a37",
   "metadata": {},
   "outputs": [],
   "source": []
  },
  {
   "cell_type": "markdown",
   "id": "72d58d05",
   "metadata": {},
   "source": [
    "#### 미니배치 학습이란?\n",
    "    => 훈련데이터를 통해 학습을 \n",
    "    => 훈련데이터에 대한 '손실 함수' 값을 구함으로써 평가한다 \n",
    "    => 손실함수가 '최소화' 되는 지점이 정답일 확률이 높고 \n",
    "    => 손실함수를 최대한 줄여주는 매개변수를 찾아낸다."
   ]
  },
  {
   "cell_type": "markdown",
   "id": "3048772c",
   "metadata": {},
   "source": [
    "#### 데이터가 N개 라면 Tnk는 N번째의 K번째 값 \n",
    "    => 허나 마지막에 N개의 데이터로 나눠서 '평균 손실 함수' 를 구한다\n",
    "    => 미니배치 학습이란 훈련데이터의 '일부'를 추려 학습하는걸 \n",
    "    => 미니 배치 학습이라고 한다 "
   ]
  },
  {
   "cell_type": "code",
   "execution_count": 18,
   "id": "10663c82",
   "metadata": {},
   "outputs": [],
   "source": [
    "#load data \n",
    "(x_train, t_train), (x_test, t_test) = load_mnist(normalize=True,\n",
    "                                                 one_hot_label=True)\n"
   ]
  },
  {
   "cell_type": "code",
   "execution_count": 19,
   "id": "93adc4ce",
   "metadata": {},
   "outputs": [
    {
     "data": {
      "text/plain": [
       "(60000, 784)"
      ]
     },
     "execution_count": 19,
     "metadata": {},
     "output_type": "execute_result"
    }
   ],
   "source": [
    "x_train.shape"
   ]
  },
  {
   "cell_type": "code",
   "execution_count": 20,
   "id": "664a88ba",
   "metadata": {},
   "outputs": [
    {
     "data": {
      "text/plain": [
       "(60000, 10)"
      ]
     },
     "execution_count": 20,
     "metadata": {},
     "output_type": "execute_result"
    }
   ],
   "source": [
    "t_train.shape"
   ]
  },
  {
   "cell_type": "code",
   "execution_count": 23,
   "id": "239cdddc",
   "metadata": {},
   "outputs": [
    {
     "data": {
      "text/plain": [
       "(784,)"
      ]
     },
     "execution_count": 23,
     "metadata": {},
     "output_type": "execute_result"
    }
   ],
   "source": [
    "\n",
    "x_train[0].shape"
   ]
  },
  {
   "cell_type": "code",
   "execution_count": 26,
   "id": "3cffc17c",
   "metadata": {},
   "outputs": [
    {
     "data": {
      "text/plain": [
       "60000"
      ]
     },
     "execution_count": 26,
     "metadata": {},
     "output_type": "execute_result"
    }
   ],
   "source": [
    "# 훈련데이터 수 \n",
    "train_size = x_train.shape[0]\n",
    "train_size"
   ]
  },
  {
   "cell_type": "code",
   "execution_count": 27,
   "id": "d1a34b08",
   "metadata": {},
   "outputs": [],
   "source": [
    "# 미니배치 사이즈 => 10\n",
    "batch_size=10"
   ]
  },
  {
   "cell_type": "code",
   "execution_count": 31,
   "id": "a177cdf7",
   "metadata": {},
   "outputs": [],
   "source": [
    "# 훈련데이터에서 무작위로 배치 사이즈만큼 10장 추출 \n",
    "batch_mask = np.random.choice(train_size, batch_size)"
   ]
  },
  {
   "cell_type": "code",
   "execution_count": 32,
   "id": "c70ec631",
   "metadata": {},
   "outputs": [
    {
     "data": {
      "text/plain": [
       "array([42871, 41829, 26260, 24660, 18803, 49438, 30294,  2559,  8996,\n",
       "       50617])"
      ]
     },
     "execution_count": 32,
     "metadata": {},
     "output_type": "execute_result"
    }
   ],
   "source": [
    "#위의 값 확인 \n",
    "batch_mask"
   ]
  },
  {
   "cell_type": "code",
   "execution_count": 34,
   "id": "8d7e1f49",
   "metadata": {},
   "outputs": [
    {
     "data": {
      "text/plain": [
       "(10, 784)"
      ]
     },
     "execution_count": 34,
     "metadata": {},
     "output_type": "execute_result"
    }
   ],
   "source": [
    "# 무작위로 추출해낸 10개 배열을 인덱스로 삼아서 훈련데이터 추출 \n",
    "x_batch = x_train[batch_mask]\n",
    "x_batch.shape"
   ]
  },
  {
   "cell_type": "code",
   "execution_count": 36,
   "id": "319a6237",
   "metadata": {},
   "outputs": [
    {
     "data": {
      "text/plain": [
       "(10, 10)"
      ]
     },
     "execution_count": 36,
     "metadata": {},
     "output_type": "execute_result"
    }
   ],
   "source": [
    "# 무작위로 추출해낸 10개의 데이터를 인덱스로 삼아 그 해당 정답 데이터 \n",
    "t_batch = t_train[batch_mask]\n",
    "t_batch.shape"
   ]
  },
  {
   "cell_type": "code",
   "execution_count": null,
   "id": "01d7f736",
   "metadata": {},
   "outputs": [],
   "source": []
  },
  {
   "cell_type": "markdown",
   "id": "65532d5e",
   "metadata": {},
   "source": [
    "## 그럼 미니배치같은 배치데이터 지원하는\n",
    "    => 교차 엔트로피 오차는 어떻게 구현할까요??"
   ]
  },
  {
   "cell_type": "code",
   "execution_count": 40,
   "id": "6701954a",
   "metadata": {},
   "outputs": [
    {
     "data": {
      "text/plain": [
       "7840"
      ]
     },
     "execution_count": 40,
     "metadata": {},
     "output_type": "execute_result"
    }
   ],
   "source": [
    "x_batch.size"
   ]
  },
  {
   "cell_type": "markdown",
   "id": "d53eb230",
   "metadata": {},
   "source": [
    "### 정답 레이블이 one-hot-encoding을 통해 0 or 1일 경우"
   ]
  },
  {
   "cell_type": "code",
   "execution_count": 42,
   "id": "ee76c26a",
   "metadata": {},
   "outputs": [],
   "source": [
    "def cross_entropy_error(y, t):\n",
    "    if y.ndim == 1: # y(신경망 배열) 값이 1차원이라면 \n",
    "        # 1차원으로 바꿔준다\n",
    "        t = t.reshape(1, t.size) # np.size => 전체 원소 개수 반환\n",
    "        y = y.reshape(1, y.size)\n",
    "        \n",
    "    batch_size = y.shape[0]\n",
    "    return -np.sum(t * np.log(y + 1e-7)) / batch_size # 평균값으로 나눠줌"
   ]
  },
  {
   "cell_type": "markdown",
   "id": "c4d29dc5",
   "metadata": {},
   "source": [
    "### 정답 레이블이 one-hot-encoding을 통하지 않아 2 or 7일경우"
   ]
  },
  {
   "cell_type": "code",
   "execution_count": 43,
   "id": "56432034",
   "metadata": {},
   "outputs": [],
   "source": [
    "def cross_entropy_error(y, t):\n",
    "    if y.ndim == 1: # y 신경망 출력값이 1차원일 경우 \n",
    "        # 1차우너으로 바꿔준다 \n",
    "        t = t.reshape(1, t.size)\n",
    "        y = y.reshape(1, y.size)\n",
    "        \n",
    "    batch_size = y.shape[0]\n",
    "    return -np.sum(np.log(y[np.arange(batch_size), t] + 1e-7)) / batch_size\n",
    "        "
   ]
  },
  {
   "cell_type": "code",
   "execution_count": null,
   "id": "610113de",
   "metadata": {},
   "outputs": [],
   "source": []
  },
  {
   "cell_type": "markdown",
   "id": "a9de29c2",
   "metadata": {},
   "source": [
    "## 왜 손실함수를 설정하나요?\n",
    "    => 기울기로만 하면 0이 되는 지점이 많이 발생해서 연속적이지 않다 \n",
    "    => 우리는 최적의 매개변수(가중치와 편향)을 탐색하기 위해서 \n",
    "    => 손실함수의 값이 최소화 하는 매개변수 값을 찾는다 \n",
    "    => 이떄 매개변수의 미분(기울기)를 계산하고, 그 미분값을 단서로 매개변수 값을 \n",
    "    서서히 갱신하는 과정 반복\n",
    "    => 손실함수에 대한 미분=> 가중치 매개변수의 값을 조금씩 변화할때 \n",
    "    손실함수가 어떻게 변하나? 커지냐 작아지냐? 를 통해서 \n",
    "    => 미분값이 음수일때는 가중치 매개변수를 양의 방향으로 \n",
    "    or 미분값이 양수일때는 가중치 매개변수를 음의 방향으로"
   ]
  },
  {
   "cell_type": "code",
   "execution_count": null,
   "id": "4ba64450",
   "metadata": {},
   "outputs": [],
   "source": []
  }
 ],
 "metadata": {
  "kernelspec": {
   "display_name": "Python 3 (ipykernel)",
   "language": "python",
   "name": "python3"
  },
  "language_info": {
   "codemirror_mode": {
    "name": "ipython",
    "version": 3
   },
   "file_extension": ".py",
   "mimetype": "text/x-python",
   "name": "python",
   "nbconvert_exporter": "python",
   "pygments_lexer": "ipython3",
   "version": "3.8.11"
  }
 },
 "nbformat": 4,
 "nbformat_minor": 5
}
