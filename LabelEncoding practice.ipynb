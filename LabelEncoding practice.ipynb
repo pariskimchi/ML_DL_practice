{
 "cells": [
  {
   "cell_type": "code",
   "execution_count": 1,
   "id": "46e3f5a4",
   "metadata": {},
   "outputs": [],
   "source": [
    "import numpy as np\n",
    "import pandas as pd \n",
    "import seaborn as sns \n",
    "\n",
    "from sklearn.preprocessing import LabelEncoder"
   ]
  },
  {
   "cell_type": "code",
   "execution_count": 2,
   "id": "17657aae",
   "metadata": {},
   "outputs": [],
   "source": [
    "# Label data \n",
    "input_labels = ['samsung','apple','tesla','facebook','netflix']"
   ]
  },
  {
   "cell_type": "code",
   "execution_count": 3,
   "id": "89b7b766",
   "metadata": {},
   "outputs": [
    {
     "data": {
      "text/plain": [
       "LabelEncoder()"
      ]
     },
     "execution_count": 3,
     "metadata": {},
     "output_type": "execute_result"
    }
   ],
   "source": [
    "#레이블 객체 생성\n",
    "encoder = LabelEncoder()\n",
    "\n",
    "# 레이블 학습 \n",
    "encoder.fit(input_labels)"
   ]
  },
  {
   "cell_type": "code",
   "execution_count": 4,
   "id": "89882341",
   "metadata": {},
   "outputs": [
    {
     "name": "stdout",
     "output_type": "stream",
     "text": [
      "0 -> apple\n",
      "1 -> facebook\n",
      "2 -> netflix\n",
      "3 -> samsung\n",
      "4 -> tesla\n"
     ]
    }
   ],
   "source": [
    "# print labels \n",
    "for i, label in enumerate(encoder.classes_):\n",
    "    print(i, '->',label)"
   ]
  },
  {
   "cell_type": "code",
   "execution_count": 6,
   "id": "cc412350",
   "metadata": {},
   "outputs": [
    {
     "name": "stdout",
     "output_type": "stream",
     "text": [
      "['netflix', 'tesla'] -> [2 4]\n"
     ]
    }
   ],
   "source": [
    "# 문자를 레이블로 변환 \n",
    "test_labels=['netflix','tesla']\n",
    "print(test_labels,'->',encoder.transform(test_labels))"
   ]
  },
  {
   "cell_type": "code",
   "execution_count": 7,
   "id": "77003121",
   "metadata": {},
   "outputs": [
    {
     "name": "stdout",
     "output_type": "stream",
     "text": [
      "[2, 4, 1] -> ['netflix' 'tesla' 'facebook']\n"
     ]
    }
   ],
   "source": [
    "# 숫자를 문자로 변환, 디코딩 \n",
    "encode_datas = [2,4,1]\n",
    "print(encode_datas, '->',encoder.inverse_transform(encode_datas))"
   ]
  },
  {
   "cell_type": "code",
   "execution_count": null,
   "id": "eb4da117",
   "metadata": {},
   "outputs": [],
   "source": []
  }
 ],
 "metadata": {
  "kernelspec": {
   "display_name": "Python 3 (ipykernel)",
   "language": "python",
   "name": "python3"
  },
  "language_info": {
   "codemirror_mode": {
    "name": "ipython",
    "version": 3
   },
   "file_extension": ".py",
   "mimetype": "text/x-python",
   "name": "python",
   "nbconvert_exporter": "python",
   "pygments_lexer": "ipython3",
   "version": "3.8.11"
  }
 },
 "nbformat": 4,
 "nbformat_minor": 5
}
