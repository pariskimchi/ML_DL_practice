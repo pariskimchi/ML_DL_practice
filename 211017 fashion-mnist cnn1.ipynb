{
 "cells": [
  {
   "cell_type": "code",
   "execution_count": 1,
   "id": "f4b66709",
   "metadata": {},
   "outputs": [],
   "source": [
    "# import libraries \n",
    "\n",
    "import tensorflow as tf \n",
    "import matplotlib.pyplot as plt \n",
    "import numpy as np\n",
    "import pandas as pd \n",
    "\n",
    "from tensorflow.keras.utils import to_categorical \n",
    "from tensorflow.keras.layers import Conv2D, MaxPooling2D, Input, Dense, Flatten \n",
    "from tensorflow.keras.models import Sequential\n",
    "from tensorflow.keras.optimizers import SGD, Adam \n",
    "\n",
    "from tensorflow.keras.models import Model, load_model \n",
    "from tensorflow.keras.callbacks import ModelCheckpoint, EarlyStopping, ReduceLROnPlateau"
   ]
  },
  {
   "cell_type": "code",
   "execution_count": 2,
   "id": "55208a01",
   "metadata": {},
   "outputs": [],
   "source": [
    "from tensorflow.keras.datasets import fashion_mnist"
   ]
  },
  {
   "cell_type": "code",
   "execution_count": 3,
   "id": "66b44839",
   "metadata": {},
   "outputs": [],
   "source": [
    "# loading dataset\n",
    "(train_images, train_labels), (test_images, test_labels) = fashion_mnist.load_data()"
   ]
  },
  {
   "cell_type": "code",
   "execution_count": 4,
   "id": "5cca502a",
   "metadata": {},
   "outputs": [
    {
     "data": {
      "text/plain": [
       "((60000, 28, 28), (60000,))"
      ]
     },
     "execution_count": 4,
     "metadata": {},
     "output_type": "execute_result"
    }
   ],
   "source": [
    "train_images.shape, train_labels.shape"
   ]
  },
  {
   "cell_type": "code",
   "execution_count": 5,
   "id": "4cf61781",
   "metadata": {},
   "outputs": [
    {
     "data": {
      "text/plain": [
       "(28, 28)"
      ]
     },
     "execution_count": 5,
     "metadata": {},
     "output_type": "execute_result"
    }
   ],
   "source": [
    "train_images[0].shape"
   ]
  },
  {
   "cell_type": "code",
   "execution_count": 6,
   "id": "872f3b83",
   "metadata": {},
   "outputs": [
    {
     "data": {
      "text/plain": [
       "9"
      ]
     },
     "execution_count": 6,
     "metadata": {},
     "output_type": "execute_result"
    }
   ],
   "source": [
    "train_labels[0]"
   ]
  },
  {
   "cell_type": "code",
   "execution_count": 7,
   "id": "8e087230",
   "metadata": {},
   "outputs": [
    {
     "data": {
      "text/plain": [
       "<matplotlib.image.AxesImage at 0x2a0a81dfb80>"
      ]
     },
     "execution_count": 7,
     "metadata": {},
     "output_type": "execute_result"
    },
    {
     "data": {
      "image/png": "[encoded data removed]",
      "text/plain": [
       "<Figure size 432x288 with 1 Axes>"
      ]
     },
     "metadata": {
      "needs_background": "light"
     },
     "output_type": "display_data"
    }
   ],
   "source": [
    "plt.imshow(train_images[0])"
   ]
  },
  {
   "cell_type": "code",
   "execution_count": 8,
   "id": "5f8f5aea",
   "metadata": {},
   "outputs": [
    {
     "data": {
      "text/plain": [
       "((10000, 28, 28), (10000,))"
      ]
     },
     "execution_count": 8,
     "metadata": {},
     "output_type": "execute_result"
    }
   ],
   "source": [
    "test_images.shape, test_labels.shape"
   ]
  },
  {
   "cell_type": "code",
   "execution_count": 9,
   "id": "c24a8413",
   "metadata": {},
   "outputs": [
    {
     "data": {
      "text/plain": [
       "dtype('uint8')"
      ]
     },
     "execution_count": 9,
     "metadata": {},
     "output_type": "execute_result"
    }
   ],
   "source": [
    "train_images.dtype"
   ]
  },
  {
   "cell_type": "code",
   "execution_count": 10,
   "id": "a943171f",
   "metadata": {},
   "outputs": [],
   "source": [
    "# normalization \n",
    "train_images = np.array(train_images/255.0, dtype=np.float32)\n",
    "train_labels = np.array(train_labels, dtype=np.float32)\n",
    "\n",
    "test_images = np.array(test_images/255.0, dtype=np.float32)\n",
    "test_labels = np.array(test_labels, dtype=np.float32)\n"
   ]
  },
  {
   "cell_type": "code",
   "execution_count": 11,
   "id": "c01d5424",
   "metadata": {},
   "outputs": [],
   "source": [
    "# one-hot-encoding\n",
    "train_labels_ohe = to_categorical(train_labels)\n",
    "test_labels_ohe = to_categorical(test_labels)"
   ]
  },
  {
   "cell_type": "code",
   "execution_count": 12,
   "id": "d5237d64",
   "metadata": {},
   "outputs": [
    {
     "data": {
      "text/plain": [
       "array([0., 0., 0., 0., 0., 0., 0., 0., 0., 1.], dtype=float32)"
      ]
     },
     "execution_count": 12,
     "metadata": {},
     "output_type": "execute_result"
    }
   ],
   "source": [
    "train_labels_ohe[0]"
   ]
  },
  {
   "cell_type": "code",
   "execution_count": 22,
   "id": "ffe07222",
   "metadata": {},
   "outputs": [
    {
     "name": "stdout",
     "output_type": "stream",
     "text": [
      "Model: \"functional_1\"\n",
      "_________________________________________________________________\n",
      "Layer (type)                 Output Shape              Param #   \n",
      "=================================================================\n",
      "input_1 (InputLayer)         [(None, 28, 28, 1)]       0         \n",
      "_________________________________________________________________\n",
      "conv2d (Conv2D)              (None, 28, 28, 32)        320       \n",
      "_________________________________________________________________\n",
      "conv2d_1 (Conv2D)            (None, 28, 28, 64)        18496     \n",
      "_________________________________________________________________\n",
      "max_pooling2d (MaxPooling2D) (None, 14, 14, 64)        0         \n",
      "_________________________________________________________________\n",
      "flatten (Flatten)            (None, 12544)             0         \n",
      "_________________________________________________________________\n",
      "dense (Dense)                (None, 100)               1254500   \n",
      "_________________________________________________________________\n",
      "dense_1 (Dense)              (None, 10)                1010      \n",
      "=================================================================\n",
      "Total params: 1,274,326\n",
      "Trainable params: 1,274,326\n",
      "Non-trainable params: 0\n",
      "_________________________________________________________________\n"
     ]
    }
   ],
   "source": [
    "# CNN - Modeling\n",
    "tf.keras.backend.clear_session()\n",
    "\n",
    "input_tensor = Input(shape=(28,28,1))\n",
    "\n",
    "x = Conv2D(filters=32, kernel_size=3, strides=1, padding='same',activation='relu')(input_tensor)\n",
    "x = Conv2D(filters=64, kernel_size=3, strides=1, padding='same',activation='relu')(x)\n",
    "x = MaxPooling2D(pool_size=(2,2))(x)\n",
    "\n",
    "x = Flatten()(x)\n",
    "x = Dense(100, activation='relu')(x)\n",
    "output = Dense(10, activation='softmax')(x)\n",
    "\n",
    "model = Model(inputs=input_tensor, outputs=output)\n",
    "model.summary()"
   ]
  },
  {
   "cell_type": "code",
   "execution_count": 23,
   "id": "7f2f6499",
   "metadata": {},
   "outputs": [],
   "source": [
    "# Compile\n",
    "model.compile(optimizer=Adam(learning_rate=0.001), loss='categorical_crossentropy', metrics=['accuracy'])\n"
   ]
  },
  {
   "cell_type": "code",
   "execution_count": 24,
   "id": "1811523c",
   "metadata": {},
   "outputs": [],
   "source": [
    "# model save\n",
    "checkpoint_cb = ModelCheckpoint(\"fashion_model_211017.h5\", save_best_only=True, verbose=1 )"
   ]
  },
  {
   "cell_type": "code",
   "execution_count": 25,
   "id": "b445aa0c",
   "metadata": {},
   "outputs": [],
   "source": [
    "# early-stopping \n",
    "early_stopping_cb = EarlyStopping(monitor='val_loss',patience=30,restore_best_weights=True )"
   ]
  },
  {
   "cell_type": "code",
   "execution_count": 27,
   "id": "e94191c4",
   "metadata": {},
   "outputs": [],
   "source": [
    "# ReduceLROnPlateau란? \n",
    "# => earlyStopping 콜백과 같이 patience 인자를 지정하되, 지정된 기간동안 \n",
    "# 평가지표에서 성능향상이 일어나지 않으면 학습률을 조정하는 콜백 \n",
    "# ReduceLROnPlateau = (monitor='val_loss',factor=0.1, patience=10, verbose=0, min_lr=0)\n",
    "# factor => 학습률 조정에 사용되는 값(새로운 학습률= factor* 기존학습률)\n",
    "# patience => 지정한 수 만큼의 기간에서 성능 향상이 일어나지 않는 경우 학습률을 조정\n",
    "# min_lr => 학습률의 하한을 지정한다 => 1e-5 로 지정할 경우 이보다 낮은 학습률로 조정하지 않는다 \n",
    "# 일반적으로 factor=0.1, 0.2\n",
    "# min_lr = 1e-6, 1e-7\n",
    "\n",
    "reducelr_cb = ReduceLROnPlateau(monitor='val_loss', factor=0.1, patience=10, verbose=1)"
   ]
  },
  {
   "cell_type": "code",
   "execution_count": 28,
   "id": "c16dc159",
   "metadata": {},
   "outputs": [
    {
     "name": "stdout",
     "output_type": "stream",
     "text": [
      "Epoch 1/50\n",
      "750/750 [==============================] - ETA: 0s - loss: 0.3985 - accuracy: 0.8584\n",
      "Epoch 00001: val_loss improved from inf to 0.28137, saving model to fashion_model_211017.h5\n",
      "750/750 [==============================] - 70s 94ms/step - loss: 0.3985 - accuracy: 0.8584 - val_loss: 0.2814 - val_accuracy: 0.8972\n",
      "Epoch 2/50\n",
      "750/750 [==============================] - ETA: 0s - loss: 0.2404 - accuracy: 0.9126\n",
      "Epoch 00002: val_loss improved from 0.28137 to 0.25814, saving model to fashion_model_211017.h5\n",
      "750/750 [==============================] - 71s 95ms/step - loss: 0.2404 - accuracy: 0.9126 - val_loss: 0.2581 - val_accuracy: 0.9082\n",
      "Epoch 3/50\n",
      "750/750 [==============================] - ETA: 0s - loss: 0.1869 - accuracy: 0.9325\n",
      "Epoch 00003: val_loss improved from 0.25814 to 0.24232, saving model to fashion_model_211017.h5\n",
      "750/750 [==============================] - 78s 104ms/step - loss: 0.1869 - accuracy: 0.9325 - val_loss: 0.2423 - val_accuracy: 0.9137\n",
      "Epoch 4/50\n",
      "750/750 [==============================] - ETA: 0s - loss: 0.1466 - accuracy: 0.9461\n",
      "Epoch 00004: val_loss improved from 0.24232 to 0.22923, saving model to fashion_model_211017.h5\n",
      "750/750 [==============================] - 76s 101ms/step - loss: 0.1466 - accuracy: 0.9461 - val_loss: 0.2292 - val_accuracy: 0.9163\n",
      "Epoch 5/50\n",
      "750/750 [==============================] - ETA: 0s - loss: 0.1136 - accuracy: 0.9580\n",
      "Epoch 00005: val_loss did not improve from 0.22923\n",
      "750/750 [==============================] - 73s 97ms/step - loss: 0.1136 - accuracy: 0.9580 - val_loss: 0.2458 - val_accuracy: 0.9178\n",
      "Epoch 6/50\n",
      "750/750 [==============================] - ETA: 0s - loss: 0.0872 - accuracy: 0.9681\n",
      "Epoch 00006: val_loss did not improve from 0.22923\n",
      "750/750 [==============================] - 70s 93ms/step - loss: 0.0872 - accuracy: 0.9681 - val_loss: 0.2413 - val_accuracy: 0.9250\n",
      "Epoch 7/50\n",
      "750/750 [==============================] - ETA: 0s - loss: 0.0655 - accuracy: 0.9766\n",
      "Epoch 00007: val_loss did not improve from 0.22923\n",
      "750/750 [==============================] - 70s 93ms/step - loss: 0.0655 - accuracy: 0.9766 - val_loss: 0.2811 - val_accuracy: 0.9200\n",
      "Epoch 8/50\n",
      "750/750 [==============================] - ETA: 0s - loss: 0.0479 - accuracy: 0.9826\n",
      "Epoch 00008: val_loss did not improve from 0.22923\n",
      "750/750 [==============================] - 68s 91ms/step - loss: 0.0479 - accuracy: 0.9826 - val_loss: 0.3150 - val_accuracy: 0.9214\n",
      "Epoch 9/50\n",
      "750/750 [==============================] - ETA: 0s - loss: 0.0346 - accuracy: 0.9876\n",
      "Epoch 00009: val_loss did not improve from 0.22923\n",
      "750/750 [==============================] - 71s 95ms/step - loss: 0.0346 - accuracy: 0.9876 - val_loss: 0.3451 - val_accuracy: 0.9260\n",
      "Epoch 10/50\n",
      "750/750 [==============================] - ETA: 0s - loss: 0.0301 - accuracy: 0.9888\n",
      "Epoch 00010: val_loss did not improve from 0.22923\n",
      "750/750 [==============================] - 68s 91ms/step - loss: 0.0301 - accuracy: 0.9888 - val_loss: 0.3739 - val_accuracy: 0.9242\n",
      "Epoch 11/50\n",
      "750/750 [==============================] - ETA: 0s - loss: 0.0239 - accuracy: 0.9914\n",
      "Epoch 00011: val_loss did not improve from 0.22923\n",
      "750/750 [==============================] - 71s 95ms/step - loss: 0.0239 - accuracy: 0.9914 - val_loss: 0.4354 - val_accuracy: 0.9189\n",
      "Epoch 12/50\n",
      "750/750 [==============================] - ETA: 0s - loss: 0.0200 - accuracy: 0.9930\n",
      "Epoch 00012: val_loss did not improve from 0.22923\n",
      "750/750 [==============================] - 70s 94ms/step - loss: 0.0200 - accuracy: 0.9930 - val_loss: 0.4373 - val_accuracy: 0.9186\n",
      "Epoch 13/50\n",
      "750/750 [==============================] - ETA: 0s - loss: 0.0196 - accuracy: 0.9934\n",
      "Epoch 00013: val_loss did not improve from 0.22923\n",
      "750/750 [==============================] - 69s 92ms/step - loss: 0.0196 - accuracy: 0.9934 - val_loss: 0.4407 - val_accuracy: 0.9222\n",
      "Epoch 14/50\n",
      "750/750 [==============================] - ETA: 0s - loss: 0.0160 - accuracy: 0.9947\n",
      "Epoch 00014: val_loss did not improve from 0.22923\n",
      "\n",
      "Epoch 00014: ReduceLROnPlateau reducing learning rate to 0.00010000000474974513.\n",
      "750/750 [==============================] - 70s 93ms/step - loss: 0.0160 - accuracy: 0.9947 - val_loss: 0.4221 - val_accuracy: 0.9234\n",
      "Epoch 15/50\n",
      "750/750 [==============================] - ETA: 0s - loss: 0.0043 - accuracy: 0.9991\n",
      "Epoch 00015: val_loss did not improve from 0.22923\n",
      "750/750 [==============================] - 72s 96ms/step - loss: 0.0043 - accuracy: 0.9991 - val_loss: 0.4246 - val_accuracy: 0.9264\n",
      "Epoch 16/50\n",
      "750/750 [==============================] - ETA: 0s - loss: 0.0014 - accuracy: 1.0000\n",
      "Epoch 00016: val_loss did not improve from 0.22923\n",
      "750/750 [==============================] - 70s 93ms/step - loss: 0.0014 - accuracy: 1.0000 - val_loss: 0.4408 - val_accuracy: 0.9280\n",
      "Epoch 17/50\n",
      "750/750 [==============================] - ETA: 0s - loss: 9.0902e-04 - accuracy: 1.0000\n",
      "Epoch 00017: val_loss did not improve from 0.22923\n",
      "750/750 [==============================] - 71s 95ms/step - loss: 9.0902e-04 - accuracy: 1.0000 - val_loss: 0.4569 - val_accuracy: 0.9277\n",
      "Epoch 18/50\n",
      "750/750 [==============================] - ETA: 0s - loss: 6.3669e-04 - accuracy: 1.0000\n",
      "Epoch 00018: val_loss did not improve from 0.22923\n",
      "750/750 [==============================] - 74s 98ms/step - loss: 6.3669e-04 - accuracy: 1.0000 - val_loss: 0.4723 - val_accuracy: 0.9283\n",
      "Epoch 19/50\n",
      "750/750 [==============================] - ETA: 0s - loss: 4.6598e-04 - accuracy: 1.0000\n",
      "Epoch 00019: val_loss did not improve from 0.22923\n",
      "750/750 [==============================] - 68s 91ms/step - loss: 4.6598e-04 - accuracy: 1.0000 - val_loss: 0.4882 - val_accuracy: 0.9286\n",
      "Epoch 20/50\n",
      "750/750 [==============================] - ETA: 0s - loss: 3.4660e-04 - accuracy: 1.0000\n",
      "Epoch 00020: val_loss did not improve from 0.22923\n",
      "750/750 [==============================] - 69s 91ms/step - loss: 3.4660e-04 - accuracy: 1.0000 - val_loss: 0.5020 - val_accuracy: 0.9277\n",
      "Epoch 21/50\n",
      "750/750 [==============================] - ETA: 0s - loss: 2.5008e-04 - accuracy: 1.0000\n",
      "Epoch 00021: val_loss did not improve from 0.22923\n",
      "750/750 [==============================] - 69s 92ms/step - loss: 2.5008e-04 - accuracy: 1.0000 - val_loss: 0.5225 - val_accuracy: 0.9290\n",
      "Epoch 22/50\n",
      "732/750 [============================>.] - ETA: 1s - loss: 1.8125e-04 - accuracy: 1.0000"
     ]
    },
    {
     "ename": "KeyboardInterrupt",
     "evalue": "",
     "output_type": "error",
     "traceback": [
      "\u001b[1;31m---------------------------------------------------------------------------\u001b[0m",
      "\u001b[1;31mKeyboardInterrupt\u001b[0m                         Traceback (most recent call last)",
      "\u001b[1;32m~\\AppData\\Local\\Temp/ipykernel_9248/2954104276.py\u001b[0m in \u001b[0;36m<module>\u001b[1;34m\u001b[0m\n\u001b[0;32m      1\u001b[0m \u001b[1;31m# 모델 학습\u001b[0m\u001b[1;33m\u001b[0m\u001b[1;33m\u001b[0m\u001b[1;33m\u001b[0m\u001b[0m\n\u001b[1;32m----> 2\u001b[1;33m model.fit(x=train_images, y=train_labels_ohe, validation_split=0.2, batch_size=64, epochs=50, verbose=1,\n\u001b[0m\u001b[0;32m      3\u001b[0m              callbacks=[checkpoint_cb, early_stopping_cb, reducelr_cb])\n",
      "\u001b[1;32m~\\anaconda3\\lib\\site-packages\\tensorflow\\python\\keras\\engine\\training.py\u001b[0m in \u001b[0;36m_method_wrapper\u001b[1;34m(self, *args, **kwargs)\u001b[0m\n\u001b[0;32m    106\u001b[0m   \u001b[1;32mdef\u001b[0m \u001b[0m_method_wrapper\u001b[0m\u001b[1;33m(\u001b[0m\u001b[0mself\u001b[0m\u001b[1;33m,\u001b[0m \u001b[1;33m*\u001b[0m\u001b[0margs\u001b[0m\u001b[1;33m,\u001b[0m \u001b[1;33m**\u001b[0m\u001b[0mkwargs\u001b[0m\u001b[1;33m)\u001b[0m\u001b[1;33m:\u001b[0m\u001b[1;33m\u001b[0m\u001b[1;33m\u001b[0m\u001b[0m\n\u001b[0;32m    107\u001b[0m     \u001b[1;32mif\u001b[0m \u001b[1;32mnot\u001b[0m \u001b[0mself\u001b[0m\u001b[1;33m.\u001b[0m\u001b[0m_in_multi_worker_mode\u001b[0m\u001b[1;33m(\u001b[0m\u001b[1;33m)\u001b[0m\u001b[1;33m:\u001b[0m  \u001b[1;31m# pylint: disable=protected-access\u001b[0m\u001b[1;33m\u001b[0m\u001b[1;33m\u001b[0m\u001b[0m\n\u001b[1;32m--> 108\u001b[1;33m       \u001b[1;32mreturn\u001b[0m \u001b[0mmethod\u001b[0m\u001b[1;33m(\u001b[0m\u001b[0mself\u001b[0m\u001b[1;33m,\u001b[0m \u001b[1;33m*\u001b[0m\u001b[0margs\u001b[0m\u001b[1;33m,\u001b[0m \u001b[1;33m**\u001b[0m\u001b[0mkwargs\u001b[0m\u001b[1;33m)\u001b[0m\u001b[1;33m\u001b[0m\u001b[1;33m\u001b[0m\u001b[0m\n\u001b[0m\u001b[0;32m    109\u001b[0m \u001b[1;33m\u001b[0m\u001b[0m\n\u001b[0;32m    110\u001b[0m     \u001b[1;31m# Running inside `run_distribute_coordinator` already.\u001b[0m\u001b[1;33m\u001b[0m\u001b[1;33m\u001b[0m\u001b[1;33m\u001b[0m\u001b[0m\n",
      "\u001b[1;32m~\\anaconda3\\lib\\site-packages\\tensorflow\\python\\keras\\engine\\training.py\u001b[0m in \u001b[0;36mfit\u001b[1;34m(self, x, y, batch_size, epochs, verbose, callbacks, validation_split, validation_data, shuffle, class_weight, sample_weight, initial_epoch, steps_per_epoch, validation_steps, validation_batch_size, validation_freq, max_queue_size, workers, use_multiprocessing)\u001b[0m\n\u001b[0;32m   1096\u001b[0m                 batch_size=batch_size):\n\u001b[0;32m   1097\u001b[0m               \u001b[0mcallbacks\u001b[0m\u001b[1;33m.\u001b[0m\u001b[0mon_train_batch_begin\u001b[0m\u001b[1;33m(\u001b[0m\u001b[0mstep\u001b[0m\u001b[1;33m)\u001b[0m\u001b[1;33m\u001b[0m\u001b[1;33m\u001b[0m\u001b[0m\n\u001b[1;32m-> 1098\u001b[1;33m               \u001b[0mtmp_logs\u001b[0m \u001b[1;33m=\u001b[0m \u001b[0mtrain_function\u001b[0m\u001b[1;33m(\u001b[0m\u001b[0miterator\u001b[0m\u001b[1;33m)\u001b[0m\u001b[1;33m\u001b[0m\u001b[1;33m\u001b[0m\u001b[0m\n\u001b[0m\u001b[0;32m   1099\u001b[0m               \u001b[1;32mif\u001b[0m \u001b[0mdata_handler\u001b[0m\u001b[1;33m.\u001b[0m\u001b[0mshould_sync\u001b[0m\u001b[1;33m:\u001b[0m\u001b[1;33m\u001b[0m\u001b[1;33m\u001b[0m\u001b[0m\n\u001b[0;32m   1100\u001b[0m                 \u001b[0mcontext\u001b[0m\u001b[1;33m.\u001b[0m\u001b[0masync_wait\u001b[0m\u001b[1;33m(\u001b[0m\u001b[1;33m)\u001b[0m\u001b[1;33m\u001b[0m\u001b[1;33m\u001b[0m\u001b[0m\n",
      "\u001b[1;32m~\\anaconda3\\lib\\site-packages\\tensorflow\\python\\eager\\def_function.py\u001b[0m in \u001b[0;36m__call__\u001b[1;34m(self, *args, **kwds)\u001b[0m\n\u001b[0;32m    778\u001b[0m       \u001b[1;32melse\u001b[0m\u001b[1;33m:\u001b[0m\u001b[1;33m\u001b[0m\u001b[1;33m\u001b[0m\u001b[0m\n\u001b[0;32m    779\u001b[0m         \u001b[0mcompiler\u001b[0m \u001b[1;33m=\u001b[0m \u001b[1;34m\"nonXla\"\u001b[0m\u001b[1;33m\u001b[0m\u001b[1;33m\u001b[0m\u001b[0m\n\u001b[1;32m--> 780\u001b[1;33m         \u001b[0mresult\u001b[0m \u001b[1;33m=\u001b[0m \u001b[0mself\u001b[0m\u001b[1;33m.\u001b[0m\u001b[0m_call\u001b[0m\u001b[1;33m(\u001b[0m\u001b[1;33m*\u001b[0m\u001b[0margs\u001b[0m\u001b[1;33m,\u001b[0m \u001b[1;33m**\u001b[0m\u001b[0mkwds\u001b[0m\u001b[1;33m)\u001b[0m\u001b[1;33m\u001b[0m\u001b[1;33m\u001b[0m\u001b[0m\n\u001b[0m\u001b[0;32m    781\u001b[0m \u001b[1;33m\u001b[0m\u001b[0m\n\u001b[0;32m    782\u001b[0m       \u001b[0mnew_tracing_count\u001b[0m \u001b[1;33m=\u001b[0m \u001b[0mself\u001b[0m\u001b[1;33m.\u001b[0m\u001b[0m_get_tracing_count\u001b[0m\u001b[1;33m(\u001b[0m\u001b[1;33m)\u001b[0m\u001b[1;33m\u001b[0m\u001b[1;33m\u001b[0m\u001b[0m\n",
      "\u001b[1;32m~\\anaconda3\\lib\\site-packages\\tensorflow\\python\\eager\\def_function.py\u001b[0m in \u001b[0;36m_call\u001b[1;34m(self, *args, **kwds)\u001b[0m\n\u001b[0;32m    805\u001b[0m       \u001b[1;31m# In this case we have created variables on the first call, so we run the\u001b[0m\u001b[1;33m\u001b[0m\u001b[1;33m\u001b[0m\u001b[1;33m\u001b[0m\u001b[0m\n\u001b[0;32m    806\u001b[0m       \u001b[1;31m# defunned version which is guaranteed to never create variables.\u001b[0m\u001b[1;33m\u001b[0m\u001b[1;33m\u001b[0m\u001b[1;33m\u001b[0m\u001b[0m\n\u001b[1;32m--> 807\u001b[1;33m       \u001b[1;32mreturn\u001b[0m \u001b[0mself\u001b[0m\u001b[1;33m.\u001b[0m\u001b[0m_stateless_fn\u001b[0m\u001b[1;33m(\u001b[0m\u001b[1;33m*\u001b[0m\u001b[0margs\u001b[0m\u001b[1;33m,\u001b[0m \u001b[1;33m**\u001b[0m\u001b[0mkwds\u001b[0m\u001b[1;33m)\u001b[0m  \u001b[1;31m# pylint: disable=not-callable\u001b[0m\u001b[1;33m\u001b[0m\u001b[1;33m\u001b[0m\u001b[0m\n\u001b[0m\u001b[0;32m    808\u001b[0m     \u001b[1;32melif\u001b[0m \u001b[0mself\u001b[0m\u001b[1;33m.\u001b[0m\u001b[0m_stateful_fn\u001b[0m \u001b[1;32mis\u001b[0m \u001b[1;32mnot\u001b[0m \u001b[1;32mNone\u001b[0m\u001b[1;33m:\u001b[0m\u001b[1;33m\u001b[0m\u001b[1;33m\u001b[0m\u001b[0m\n\u001b[0;32m    809\u001b[0m       \u001b[1;31m# Release the lock early so that multiple threads can perform the call\u001b[0m\u001b[1;33m\u001b[0m\u001b[1;33m\u001b[0m\u001b[1;33m\u001b[0m\u001b[0m\n",
      "\u001b[1;32m~\\anaconda3\\lib\\site-packages\\tensorflow\\python\\eager\\function.py\u001b[0m in \u001b[0;36m__call__\u001b[1;34m(self, *args, **kwargs)\u001b[0m\n\u001b[0;32m   2827\u001b[0m     \u001b[1;32mwith\u001b[0m \u001b[0mself\u001b[0m\u001b[1;33m.\u001b[0m\u001b[0m_lock\u001b[0m\u001b[1;33m:\u001b[0m\u001b[1;33m\u001b[0m\u001b[1;33m\u001b[0m\u001b[0m\n\u001b[0;32m   2828\u001b[0m       \u001b[0mgraph_function\u001b[0m\u001b[1;33m,\u001b[0m \u001b[0margs\u001b[0m\u001b[1;33m,\u001b[0m \u001b[0mkwargs\u001b[0m \u001b[1;33m=\u001b[0m \u001b[0mself\u001b[0m\u001b[1;33m.\u001b[0m\u001b[0m_maybe_define_function\u001b[0m\u001b[1;33m(\u001b[0m\u001b[0margs\u001b[0m\u001b[1;33m,\u001b[0m \u001b[0mkwargs\u001b[0m\u001b[1;33m)\u001b[0m\u001b[1;33m\u001b[0m\u001b[1;33m\u001b[0m\u001b[0m\n\u001b[1;32m-> 2829\u001b[1;33m     \u001b[1;32mreturn\u001b[0m \u001b[0mgraph_function\u001b[0m\u001b[1;33m.\u001b[0m\u001b[0m_filtered_call\u001b[0m\u001b[1;33m(\u001b[0m\u001b[0margs\u001b[0m\u001b[1;33m,\u001b[0m \u001b[0mkwargs\u001b[0m\u001b[1;33m)\u001b[0m  \u001b[1;31m# pylint: disable=protected-access\u001b[0m\u001b[1;33m\u001b[0m\u001b[1;33m\u001b[0m\u001b[0m\n\u001b[0m\u001b[0;32m   2830\u001b[0m \u001b[1;33m\u001b[0m\u001b[0m\n\u001b[0;32m   2831\u001b[0m   \u001b[1;33m@\u001b[0m\u001b[0mproperty\u001b[0m\u001b[1;33m\u001b[0m\u001b[1;33m\u001b[0m\u001b[0m\n",
      "\u001b[1;32m~\\anaconda3\\lib\\site-packages\\tensorflow\\python\\eager\\function.py\u001b[0m in \u001b[0;36m_filtered_call\u001b[1;34m(self, args, kwargs, cancellation_manager)\u001b[0m\n\u001b[0;32m   1841\u001b[0m       \u001b[0;31m`\u001b[0m\u001b[0margs\u001b[0m\u001b[0;31m`\u001b[0m \u001b[1;32mand\u001b[0m\u001b[0;31m \u001b[0m\u001b[0;31m`\u001b[0m\u001b[0mkwargs\u001b[0m\u001b[0;31m`\u001b[0m\u001b[1;33m.\u001b[0m\u001b[1;33m\u001b[0m\u001b[1;33m\u001b[0m\u001b[0m\n\u001b[0;32m   1842\u001b[0m     \"\"\"\n\u001b[1;32m-> 1843\u001b[1;33m     return self._call_flat(\n\u001b[0m\u001b[0;32m   1844\u001b[0m         [t for t in nest.flatten((args, kwargs), expand_composites=True)\n\u001b[0;32m   1845\u001b[0m          if isinstance(t, (ops.Tensor,\n",
      "\u001b[1;32m~\\anaconda3\\lib\\site-packages\\tensorflow\\python\\eager\\function.py\u001b[0m in \u001b[0;36m_call_flat\u001b[1;34m(self, args, captured_inputs, cancellation_manager)\u001b[0m\n\u001b[0;32m   1921\u001b[0m         and executing_eagerly):\n\u001b[0;32m   1922\u001b[0m       \u001b[1;31m# No tape is watching; skip to running the function.\u001b[0m\u001b[1;33m\u001b[0m\u001b[1;33m\u001b[0m\u001b[1;33m\u001b[0m\u001b[0m\n\u001b[1;32m-> 1923\u001b[1;33m       return self._build_call_outputs(self._inference_function.call(\n\u001b[0m\u001b[0;32m   1924\u001b[0m           ctx, args, cancellation_manager=cancellation_manager))\n\u001b[0;32m   1925\u001b[0m     forward_backward = self._select_forward_and_backward_functions(\n",
      "\u001b[1;32m~\\anaconda3\\lib\\site-packages\\tensorflow\\python\\eager\\function.py\u001b[0m in \u001b[0;36mcall\u001b[1;34m(self, ctx, args, cancellation_manager)\u001b[0m\n\u001b[0;32m    543\u001b[0m       \u001b[1;32mwith\u001b[0m \u001b[0m_InterpolateFunctionError\u001b[0m\u001b[1;33m(\u001b[0m\u001b[0mself\u001b[0m\u001b[1;33m)\u001b[0m\u001b[1;33m:\u001b[0m\u001b[1;33m\u001b[0m\u001b[1;33m\u001b[0m\u001b[0m\n\u001b[0;32m    544\u001b[0m         \u001b[1;32mif\u001b[0m \u001b[0mcancellation_manager\u001b[0m \u001b[1;32mis\u001b[0m \u001b[1;32mNone\u001b[0m\u001b[1;33m:\u001b[0m\u001b[1;33m\u001b[0m\u001b[1;33m\u001b[0m\u001b[0m\n\u001b[1;32m--> 545\u001b[1;33m           outputs = execute.execute(\n\u001b[0m\u001b[0;32m    546\u001b[0m               \u001b[0mstr\u001b[0m\u001b[1;33m(\u001b[0m\u001b[0mself\u001b[0m\u001b[1;33m.\u001b[0m\u001b[0msignature\u001b[0m\u001b[1;33m.\u001b[0m\u001b[0mname\u001b[0m\u001b[1;33m)\u001b[0m\u001b[1;33m,\u001b[0m\u001b[1;33m\u001b[0m\u001b[1;33m\u001b[0m\u001b[0m\n\u001b[0;32m    547\u001b[0m               \u001b[0mnum_outputs\u001b[0m\u001b[1;33m=\u001b[0m\u001b[0mself\u001b[0m\u001b[1;33m.\u001b[0m\u001b[0m_num_outputs\u001b[0m\u001b[1;33m,\u001b[0m\u001b[1;33m\u001b[0m\u001b[1;33m\u001b[0m\u001b[0m\n",
      "\u001b[1;32m~\\anaconda3\\lib\\site-packages\\tensorflow\\python\\eager\\execute.py\u001b[0m in \u001b[0;36mquick_execute\u001b[1;34m(op_name, num_outputs, inputs, attrs, ctx, name)\u001b[0m\n\u001b[0;32m     57\u001b[0m   \u001b[1;32mtry\u001b[0m\u001b[1;33m:\u001b[0m\u001b[1;33m\u001b[0m\u001b[1;33m\u001b[0m\u001b[0m\n\u001b[0;32m     58\u001b[0m     \u001b[0mctx\u001b[0m\u001b[1;33m.\u001b[0m\u001b[0mensure_initialized\u001b[0m\u001b[1;33m(\u001b[0m\u001b[1;33m)\u001b[0m\u001b[1;33m\u001b[0m\u001b[1;33m\u001b[0m\u001b[0m\n\u001b[1;32m---> 59\u001b[1;33m     tensors = pywrap_tfe.TFE_Py_Execute(ctx._handle, device_name, op_name,\n\u001b[0m\u001b[0;32m     60\u001b[0m                                         inputs, attrs, num_outputs)\n\u001b[0;32m     61\u001b[0m   \u001b[1;32mexcept\u001b[0m \u001b[0mcore\u001b[0m\u001b[1;33m.\u001b[0m\u001b[0m_NotOkStatusException\u001b[0m \u001b[1;32mas\u001b[0m \u001b[0me\u001b[0m\u001b[1;33m:\u001b[0m\u001b[1;33m\u001b[0m\u001b[1;33m\u001b[0m\u001b[0m\n",
      "\u001b[1;31mKeyboardInterrupt\u001b[0m: "
     ]
    }
   ],
   "source": [
    "# 모델 학습 \n",
    "history = model.fit(x=train_images, y=train_labels_ohe, validation_split=0.2, batch_size=64, epochs=50, verbose=1,\n",
    "             callbacks=[checkpoint_cb, early_stopping_cb, reducelr_cb])"
   ]
  },
  {
   "cell_type": "code",
   "execution_count": null,
   "id": "59f45e63",
   "metadata": {},
   "outputs": [],
   "source": []
  }
 ],
 "metadata": {
  "kernelspec": {
   "display_name": "Python 3 (ipykernel)",
   "language": "python",
   "name": "python3"
  },
  "language_info": {
   "codemirror_mode": {
    "name": "ipython",
    "version": 3
   },
   "file_extension": ".py",
   "mimetype": "text/x-python",
   "name": "python",
   "nbconvert_exporter": "python",
   "pygments_lexer": "ipython3",
   "version": "3.8.11"
  }
 },
 "nbformat": 4,
 "nbformat_minor": 5
}
