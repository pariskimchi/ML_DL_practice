{
 "cells": [
  {
   "cell_type": "code",
   "execution_count": null,
   "metadata": {
    "id": "BUdSruqYnr0H"
   },
   "outputs": [],
   "source": [
    "# 머신러닝\n",
    "# 1. 데이터 수집 (완료), 크롤링\n",
    "import pandas as pd\n",
    "import matplotlib.pyplot as plt\n",
    "import seaborn as sns"
   ]
  },
  {
   "cell_type": "code",
   "execution_count": null,
   "metadata": {
    "id": "mlXxq1sArm7K"
   },
   "outputs": [],
   "source": [
    "titanic = sns.load_dataset('titanic')\n",
    "titanic1 = sns.load_dataset('titanic')"
   ]
  },
  {
   "cell_type": "markdown",
   "metadata": {
    "id": "s0LPkAR3u6Bt"
   },
   "source": [
    "2. 탐색적 데이터 분석 (Experimental Data Analysis)"
   ]
  },
  {
   "cell_type": "code",
   "execution_count": null,
   "metadata": {
    "id": "KBHtO7aRsUX7"
   },
   "outputs": [],
   "source": [
    "titanic.head(2)"
   ]
  },
  {
   "cell_type": "code",
   "execution_count": null,
   "metadata": {
    "id": "WPWWt3KZuwgT"
   },
   "outputs": [],
   "source": [
    "titanic.shape"
   ]
  },
  {
   "cell_type": "code",
   "execution_count": null,
   "metadata": {
    "id": "-ZmUN71OvYGO"
   },
   "outputs": [],
   "source": [
    "titanic.info()"
   ]
  },
  {
   "cell_type": "code",
   "execution_count": null,
   "metadata": {
    "id": "Ov4EoQnswrQR"
   },
   "outputs": [],
   "source": [
    "titanic.describe()"
   ]
  },
  {
   "cell_type": "code",
   "execution_count": null,
   "metadata": {
    "id": "yyK3ziprxu0N"
   },
   "outputs": [],
   "source": [
    "titanic.head(1)"
   ]
  },
  {
   "cell_type": "code",
   "execution_count": null,
   "metadata": {
    "id": "iUF49n-Vyt6j"
   },
   "outputs": [],
   "source": [
    "# class, who, adult_male, embark_town, alive, alone 삭제 후 df에 저장\n",
    "df = titanic.drop(columns=['class', 'who', 'adult_male', 'embark_town', 'alive', 'alone'])\n",
    "df1 = titanic.drop(columns=['class', 'who', 'adult_male', 'embark_town', 'alive', 'alone'])"
   ]
  },
  {
   "cell_type": "code",
   "execution_count": null,
   "metadata": {
    "id": "olpNCiIW13Sg"
   },
   "outputs": [],
   "source": [
    "df.head(1)"
   ]
  },
  {
   "cell_type": "code",
   "execution_count": null,
   "metadata": {
    "id": "YfGbaFVY2CTk"
   },
   "outputs": [],
   "source": [
    "df.corr()"
   ]
  },
  {
   "cell_type": "code",
   "execution_count": null,
   "metadata": {
    "id": "V3ftsd9Q2eBa"
   },
   "outputs": [],
   "source": [
    "sns.heatmap(df.corr(), annot=True, cmap='coolwarm')"
   ]
  },
  {
   "cell_type": "code",
   "execution_count": null,
   "metadata": {
    "id": "q1pjfs6g29Vt"
   },
   "outputs": [],
   "source": [
    "df.value_counts('pclass')"
   ]
  },
  {
   "cell_type": "code",
   "execution_count": null,
   "metadata": {
    "id": "AUU0nbj-5eyH"
   },
   "outputs": [],
   "source": [
    "sns.countplot('pclass', data=df)"
   ]
  },
  {
   "cell_type": "code",
   "execution_count": null,
   "metadata": {
    "id": "amGB9oRt5ws1"
   },
   "outputs": [],
   "source": [
    "pd.crosstab(df.pclass, df.survived, margins=True)"
   ]
  },
  {
   "cell_type": "code",
   "execution_count": null,
   "metadata": {
    "id": "fQJD4X4o6go-"
   },
   "outputs": [],
   "source": [
    "sns.countplot('pclass', hue='survived', data=df)"
   ]
  },
  {
   "cell_type": "code",
   "execution_count": null,
   "metadata": {
    "id": "yCgM7XPF6uwj"
   },
   "outputs": [],
   "source": [
    "sns.countplot('sex', hue='survived', data=df)"
   ]
  },
  {
   "cell_type": "code",
   "execution_count": null,
   "metadata": {
    "id": "3mtRJHp79NSB"
   },
   "outputs": [],
   "source": [
    "sns.violinplot('pclass', 'age', hue='survived', data=df, split=True)"
   ]
  },
  {
   "cell_type": "code",
   "execution_count": null,
   "metadata": {
    "id": "cAOw0Eau9hH2"
   },
   "outputs": [],
   "source": [
    "df"
   ]
  },
  {
   "cell_type": "markdown",
   "metadata": {
    "id": "GNqZb7ey_W61"
   },
   "source": [
    "\n",
    "\n",
    "'''\n",
    "전처리\n",
    "```\n",
    "\n"
   ]
  },
  {
   "cell_type": "code",
   "execution_count": null,
   "metadata": {
    "id": "fMkCyFQ-_TBt"
   },
   "outputs": [],
   "source": [
    "#1. 결측치 제거\n",
    "df.info()"
   ]
  },
  {
   "cell_type": "code",
   "execution_count": null,
   "metadata": {
    "id": "K0V6EK5u_gbt"
   },
   "outputs": [],
   "source": [
    "df.isna().sum()"
   ]
  },
  {
   "cell_type": "code",
   "execution_count": null,
   "metadata": {
    "id": "TZ1MMC6m_xnR"
   },
   "outputs": [],
   "source": [
    "df.isna().sum().sum()"
   ]
  },
  {
   "cell_type": "code",
   "execution_count": null,
   "metadata": {
    "id": "vArHBfqR_5iT"
   },
   "outputs": [],
   "source": [
    "df.embarked.value_counts(dropna=False)"
   ]
  },
  {
   "cell_type": "code",
   "execution_count": null,
   "metadata": {
    "id": "aTLQ90NbAAiZ"
   },
   "outputs": [],
   "source": [
    "#1. S항으로 대체 --> df1\n",
    "#2. N항으로 대체 --> df2"
   ]
  },
  {
   "cell_type": "code",
   "execution_count": null,
   "metadata": {
    "id": "9QRmnOdIAayt"
   },
   "outputs": [],
   "source": [
    "df['embarked'].fillna('S', inplace=True)\n",
    "df1['embarked'].fillna('N', inplace=True)"
   ]
  },
  {
   "cell_type": "code",
   "execution_count": null,
   "metadata": {
    "id": "4_tSwTOoEUAW"
   },
   "outputs": [],
   "source": [
    "df.embarked.value_counts(dropna=False)"
   ]
  },
  {
   "cell_type": "code",
   "execution_count": null,
   "metadata": {
    "id": "EtmVMDHhEYlW"
   },
   "outputs": [],
   "source": [
    "df1.embarked.value_counts(dropna=False)"
   ]
  },
  {
   "cell_type": "code",
   "execution_count": null,
   "metadata": {
    "id": "aqEkHcyXEfyJ"
   },
   "outputs": [],
   "source": [
    "df.isna().sum()"
   ]
  },
  {
   "cell_type": "code",
   "execution_count": null,
   "metadata": {
    "id": "_-LHQnAAIUYJ"
   },
   "outputs": [],
   "source": [
    "df1.isna().sum()"
   ]
  },
  {
   "cell_type": "code",
   "execution_count": null,
   "metadata": {
    "id": "eamQ4OUFIWsx"
   },
   "outputs": [],
   "source": [
    "# 결측치 제거 (age)\n",
    "df.age.hist(bins=100)"
   ]
  },
  {
   "cell_type": "code",
   "execution_count": null,
   "metadata": {
    "id": "-0_cFOmiIh-o"
   },
   "outputs": [],
   "source": [
    "df1.age.fillna(df1.age.median(), inplace=True)"
   ]
  },
  {
   "cell_type": "code",
   "execution_count": null,
   "metadata": {
    "id": "1R-luqXmJilD"
   },
   "outputs": [],
   "source": [
    "df1.isna().sum()"
   ]
  },
  {
   "cell_type": "code",
   "execution_count": null,
   "metadata": {
    "id": "plw-ouimKI4C"
   },
   "outputs": [],
   "source": [
    "df1.age.hist(bins=100)"
   ]
  },
  {
   "cell_type": "code",
   "execution_count": null,
   "metadata": {
    "id": "ER_OGzSIKLZt"
   },
   "outputs": [],
   "source": [
    "# 1등석, 남성의 중앙 나이 --> 해당 조건의 결측치에 채워넣기\n",
    "# 1등석, 여성의 중앙 나이\n",
    "# 2등석, 남성의 중앙 나이\n",
    "# 2등석, 여성의 중앙 나이\n",
    "# 3등석, 남성의 중앙 나이\n",
    "# 3등석, 여성의 중앙 나이\n",
    "result = pd.pivot_table(df, index=df.pclass, columns=df.sex, aggfunc='median')"
   ]
  },
  {
   "cell_type": "code",
   "execution_count": null,
   "metadata": {
    "id": "dMZSvDmiLJCx"
   },
   "outputs": [],
   "source": [
    "result['age'].loc[1, ['male']]"
   ]
  },
  {
   "cell_type": "code",
   "execution_count": null,
   "metadata": {
    "id": "_vCkKi54SLC9"
   },
   "outputs": [],
   "source": [
    "male_1_med = df[(df.pclass == 1) & (df.sex == 'male')].age.median()\n",
    "female_1_med = df[(df.pclass == 1) & (df.sex == 'female')].age.median()\n",
    "male_2_med = df[(df.pclass == 2) & (df.sex == 'male')].age.median()\n",
    "female_2_med = df[(df.pclass == 2) & (df.sex == 'female')].age.median()\n",
    "male_3_med = df[(df.pclass == 3) & (df.sex == 'male')].age.median()\n",
    "female_3_med = df[(df.pclass == 3) & (df.sex == 'female')].age.median()\n",
    "\n",
    "df.loc[(df.pclass == 1) & (df.sex == 'male') & (df.age.isnull()), 'age'] = male_1_med\n",
    "df.loc[(df.pclass == 1) & (df.sex == 'female') & (df.age.isnull()), 'age'] = female_1_med\n",
    "df.loc[(df.pclass == 2) & (df.sex == 'male') & (df.age.isnull()), 'age'] = male_2_med\n",
    "df.loc[(df.pclass == 2) & (df.sex == 'female') & (df.age.isnull()), 'age'] = female_2_med\n",
    "df.loc[(df.pclass == 3) & (df.sex == 'male') & (df.age.isnull()), 'age'] = male_3_med\n",
    "df.loc[(df.pclass == 3) & (df.sex == 'female') & (df.age.isnull()), 'age'] = female_3_med"
   ]
  },
  {
   "cell_type": "code",
   "execution_count": null,
   "metadata": {
    "id": "D0wToGYIS9CS"
   },
   "outputs": [],
   "source": [
    "df.isna().sum()"
   ]
  },
  {
   "cell_type": "code",
   "execution_count": null,
   "metadata": {
    "id": "mDjJncGUWenV"
   },
   "outputs": [],
   "source": [
    "df1.isna().sum()"
   ]
  },
  {
   "cell_type": "code",
   "execution_count": null,
   "metadata": {
    "id": "unAde-GzX6hU"
   },
   "outputs": [],
   "source": [
    "df.age.hist(bins=80)"
   ]
  },
  {
   "cell_type": "code",
   "execution_count": null,
   "metadata": {
    "id": "HXHXEfG6X8dN"
   },
   "outputs": [],
   "source": [
    "df1.age.hist(bins=40)"
   ]
  },
  {
   "cell_type": "code",
   "execution_count": null,
   "metadata": {
    "id": "baTfmYeaYCAi"
   },
   "outputs": [],
   "source": [
    "df.deck.value_counts()"
   ]
  },
  {
   "cell_type": "code",
   "execution_count": null,
   "metadata": {
    "id": "oZ9LivN7Yfi3"
   },
   "outputs": [],
   "source": [
    "688/891"
   ]
  },
  {
   "cell_type": "code",
   "execution_count": null,
   "metadata": {
    "id": "QqhwJn95YpbZ"
   },
   "outputs": [],
   "source": [
    "sns.countplot('deck', hue='pclass', data=df)"
   ]
  },
  {
   "cell_type": "code",
   "execution_count": null,
   "metadata": {
    "id": "ZEsyknLnr4T9"
   },
   "outputs": [],
   "source": [
    "df.drop(columns='deck', inplace=True)"
   ]
  },
  {
   "cell_type": "code",
   "execution_count": null,
   "metadata": {
    "id": "DLarbcokseVU"
   },
   "outputs": [],
   "source": [
    "df1.deck = df1.deck.astype('object').fillna('N')"
   ]
  },
  {
   "cell_type": "code",
   "execution_count": null,
   "metadata": {
    "id": "OJA-W0p3suBg"
   },
   "outputs": [],
   "source": [
    "df1.isna().sum()"
   ]
  },
  {
   "cell_type": "code",
   "execution_count": null,
   "metadata": {
    "id": "gl9Bz4U6tR2D"
   },
   "outputs": [],
   "source": [
    "df.isna().sum()"
   ]
  },
  {
   "cell_type": "code",
   "execution_count": null,
   "metadata": {
    "id": "tTo6Nh6MtkrA"
   },
   "outputs": [],
   "source": [
    "# 결측치 제거(완료)\n",
    "# 2번째 전처리 (인코딩)"
   ]
  },
  {
   "cell_type": "code",
   "execution_count": null,
   "metadata": {
    "id": "axgLFaeJt_ib"
   },
   "outputs": [],
   "source": [
    "df.info()"
   ]
  },
  {
   "cell_type": "code",
   "execution_count": null,
   "metadata": {
    "id": "drMfrv_vuGgm"
   },
   "outputs": [],
   "source": [
    "df.sex.unique()"
   ]
  },
  {
   "cell_type": "code",
   "execution_count": null,
   "metadata": {
    "id": "NtlJVm6iuO-w"
   },
   "outputs": [],
   "source": [
    "df.embarked.unique()"
   ]
  },
  {
   "cell_type": "code",
   "execution_count": null,
   "metadata": {
    "id": "lAmfk099uVmC"
   },
   "outputs": [],
   "source": [
    "# Label encoding\n",
    "from sklearn.preprocessing import LabelEncoder"
   ]
  },
  {
   "cell_type": "code",
   "execution_count": null,
   "metadata": {
    "id": "Md7XU12UunuL"
   },
   "outputs": [],
   "source": [
    "encoder = LabelEncoder()\n",
    "encoder.fit(df.sex)\n",
    "labels=encoder.transform(df.sex)\n",
    "print(labels)"
   ]
  },
  {
   "cell_type": "code",
   "execution_count": null,
   "metadata": {
    "id": "2tnmk9-Bu2LY"
   },
   "outputs": [],
   "source": [
    "encoder.classes_"
   ]
  },
  {
   "cell_type": "code",
   "execution_count": null,
   "metadata": {
    "id": "dEr7jiXjwNvV"
   },
   "outputs": [],
   "source": [
    "encoder.inverse_transform([1])"
   ]
  },
  {
   "cell_type": "code",
   "execution_count": null,
   "metadata": {
    "id": "wFZ_7EMWws6B"
   },
   "outputs": [],
   "source": [
    "# encoding 2가지 방법 (label encoding, )\n",
    "\n",
    "test = ['A', 'B', 'C', 'D', 'F']\n",
    "encoder = LabelEncoder()\n",
    "encoder.fit(test)\n",
    "labels=encoder.transform(test)\n",
    "print(labels)"
   ]
  },
  {
   "cell_type": "code",
   "execution_count": null,
   "metadata": {
    "id": "LoW0-KcyyD39"
   },
   "outputs": [],
   "source": [
    "# 0 ~ 9999\n",
    "# 회귀 분석에서 숫자의 크기에 따른 결과값에 대한 영향을 없애기 위해\n",
    "# one hot encoding\n",
    "pd.get_dummies(test)"
   ]
  },
  {
   "cell_type": "code",
   "execution_count": null,
   "metadata": {
    "id": "2lRRMLH9ysCz"
   },
   "outputs": [],
   "source": [
    "# feature scaling\n",
    "# 표준화, 정규화\n",
    "def standard(x):\n",
    "  return (x - x.mean()) / x.std()\n",
    "\n",
    "def normalization(x):\n",
    "  return (x - x.min()) / (x.max() - x.min())"
   ]
  },
  {
   "cell_type": "code",
   "execution_count": null,
   "metadata": {
    "id": "0x9gasW51CwU"
   },
   "outputs": [],
   "source": [
    "# df, df1 모두 레이블 인코딩\n",
    "for i in ['sex', 'embarked']: #'deck'\n",
    "  encoder = LabelEncoder()\n",
    "  encoder.fit(df[i])\n",
    "  df[i]=encoder.transform(df[i])"
   ]
  },
  {
   "cell_type": "code",
   "execution_count": null,
   "metadata": {
    "id": "g4de4Lby6nBy"
   },
   "outputs": [],
   "source": [
    "for i in ['sex', 'embarked', 'deck']:\n",
    "  encoder = LabelEncoder()\n",
    "  encoder.fit(df1[i])\n",
    "  df1[i]=encoder.transform(df1[i])"
   ]
  },
  {
   "cell_type": "code",
   "execution_count": null,
   "metadata": {
    "id": "a8Ndcz5M6DY5"
   },
   "outputs": [],
   "source": [
    "# df, df1 모두 정규화, 표준화 결과 확인\n",
    "df.apply(lambda x : standard(x)).describe()"
   ]
  },
  {
   "cell_type": "code",
   "execution_count": null,
   "metadata": {
    "id": "HA08voIn6IF7"
   },
   "outputs": [],
   "source": [
    "df.apply(lambda x : normalization(x)).describe()"
   ]
  },
  {
   "cell_type": "code",
   "execution_count": null,
   "metadata": {
    "id": "5JzBa82J7fFE"
   },
   "outputs": [],
   "source": [
    "df1"
   ]
  },
  {
   "cell_type": "code",
   "execution_count": null,
   "metadata": {
    "id": "oUzhXPWm70hr"
   },
   "outputs": [],
   "source": [
    "# data read\n",
    "# 확인\n",
    "# EDA\n",
    "# 결측치제거, 레이블인코딩, 피처스케일링"
   ]
  },
  {
   "cell_type": "code",
   "execution_count": null,
   "metadata": {
    "id": "Dfv6-AUk8OjS"
   },
   "outputs": [],
   "source": [
    "sns.heatmap(df.corr(), annot=True, cmap='coolwarm')"
   ]
  },
  {
   "cell_type": "code",
   "execution_count": null,
   "metadata": {
    "id": "6QqAhKAS8X40"
   },
   "outputs": [],
   "source": [
    "sns.heatmap(df1.corr(), annot=True, cmap='coolwarm')"
   ]
  },
  {
   "cell_type": "code",
   "execution_count": null,
   "metadata": {
    "id": "YwCZ6W4M-wiy"
   },
   "outputs": [],
   "source": [
    "# 문제 데이터: 정답 데이터\n",
    "y_df = df['survived']\n",
    "x_df = df.drop(columns='survived')"
   ]
  },
  {
   "cell_type": "code",
   "execution_count": null,
   "metadata": {
    "id": "y1_wShlOBP9F"
   },
   "outputs": [],
   "source": [
    "y_df1 = df1['survived']\n",
    "x_df1 = df1.drop(columns='survived')"
   ]
  },
  {
   "cell_type": "code",
   "execution_count": null,
   "metadata": {
    "id": "Kke1ELehBSvP"
   },
   "outputs": [],
   "source": [
    "x_df.head(1)"
   ]
  },
  {
   "cell_type": "code",
   "execution_count": null,
   "metadata": {
    "id": "gAjZZNEQBUHo"
   },
   "outputs": [],
   "source": [
    "y_df.head(1)"
   ]
  },
  {
   "cell_type": "code",
   "execution_count": null,
   "metadata": {
    "id": "es0siLcYBZUw"
   },
   "outputs": [],
   "source": [
    "89 * 2"
   ]
  },
  {
   "cell_type": "code",
   "execution_count": null,
   "metadata": {
    "id": "q-tTv3xLBlqb"
   },
   "outputs": [],
   "source": [
    "891 - 178"
   ]
  },
  {
   "cell_type": "code",
   "execution_count": null,
   "metadata": {
    "id": "ZbcARXjdBr8j"
   },
   "outputs": [],
   "source": [
    "from sklearn.model_selection import train_test_split"
   ]
  },
  {
   "cell_type": "code",
   "execution_count": null,
   "metadata": {
    "id": "ZGvRgV6CCQnj"
   },
   "outputs": [],
   "source": [
    "x_train, x_test, y_train, y_test = train_test_split(x_df, y_df, test_size=0.2, random_state=12)"
   ]
  },
  {
   "cell_type": "code",
   "execution_count": null,
   "metadata": {
    "id": "3Srm9ETsCtAW"
   },
   "outputs": [],
   "source": [
    "x_train1, x_test1, y_train1, y_test1 = train_test_split(x_df1, y_df1, test_size=0.2, random_state=12)"
   ]
  },
  {
   "cell_type": "code",
   "execution_count": null,
   "metadata": {
    "id": "DA6ngzfcDged"
   },
   "outputs": [],
   "source": [
    "x_train"
   ]
  },
  {
   "cell_type": "code",
   "execution_count": null,
   "metadata": {
    "id": "HHhTTZAEDjNJ"
   },
   "outputs": [],
   "source": [
    "from sklearn.tree import DecisionTreeClassifier\n",
    "from sklearn.ensemble import RandomForestClassifier\n",
    "from sklearn.linear_model import LogisticRegression"
   ]
  },
  {
   "cell_type": "markdown",
   "metadata": {
    "id": "x5R6-9aBKle2"
   },
   "source": []
  },
  {
   "cell_type": "code",
   "execution_count": null,
   "metadata": {
    "id": "7O0AeFegEasy"
   },
   "outputs": [],
   "source": [
    "dt_clf = DecisionTreeClassifier()\n",
    "rf_clf = RandomForestClassifier(n_jobs=1)\n",
    "lr_clf = LogisticRegression(n_jobs=1)\n",
    "dt_clf1 = DecisionTreeClassifier()\n",
    "rf_clf1 = RandomForestClassifier(n_jobs=1)\n",
    "lr_clf1 = LogisticRegression(n_jobs=1)"
   ]
  },
  {
   "cell_type": "code",
   "execution_count": null,
   "metadata": {
    "id": "iHuf8oS5Eun2"
   },
   "outputs": [],
   "source": [
    "dt_clf.fit(x_train, y_train)\n",
    "rf_clf.fit(x_train, y_train)\n",
    "lr_clf.fit(x_train, y_train)\n",
    "dt_clf1.fit(x_train1, y_train1)\n",
    "rf_clf1.fit(x_train1, y_train1)\n",
    "lr_clf1.fit(x_train1, y_train1)"
   ]
  },
  {
   "cell_type": "code",
   "execution_count": null,
   "metadata": {
    "id": "rpL-O8aaJEMb"
   },
   "outputs": [],
   "source": [
    "dt_pred = dt_clf.predict(x_test)\n",
    "rf_pred = rf_clf.predict(x_test)\n",
    "lr_pred = lr_clf.predict(x_test)\n",
    "dt1_pred = dt_clf1.predict(x_test1)\n",
    "rf1_pred = rf_clf1.predict(x_test1)\n",
    "lr1_pred = lr_clf1.predict(x_test1)"
   ]
  },
  {
   "cell_type": "code",
   "execution_count": null,
   "metadata": {
    "id": "tTflxIKKJ8KY"
   },
   "outputs": [],
   "source": [
    "df1.isnull().sum()\n"
   ]
  },
  {
   "cell_type": "code",
   "execution_count": null,
   "metadata": {
    "id": "L2vs8Ja1K6eU"
   },
   "outputs": [],
   "source": []
  }
 ],
 "metadata": {
  "colab": {
   "name": "20211004_encore_ml.ipynb",
   "private_outputs": true,
   "provenance": []
  },
  "kernelspec": {
   "display_name": "Python 3 (ipykernel)",
   "language": "python",
   "name": "python3"
  },
  "language_info": {
   "codemirror_mode": {
    "name": "ipython",
    "version": 3
   },
   "file_extension": ".py",
   "mimetype": "text/x-python",
   "name": "python",
   "nbconvert_exporter": "python",
   "pygments_lexer": "ipython3",
   "version": "3.8.11"
  }
 },
 "nbformat": 4,
 "nbformat_minor": 1
}
