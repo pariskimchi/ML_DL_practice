{
 "cells": [
  {
   "cell_type": "markdown",
   "id": "f5613e18",
   "metadata": {},
   "source": [
    "## 회귀분석이란???\n",
    "    1. y= Wx+b\n",
    "    에서 최적의 W(weight 가중치)를 찾는것\n",
    "    \n",
    "    2. 절대값 \n",
    "    3. 제곱"
   ]
  },
  {
   "cell_type": "markdown",
   "id": "95edf73b",
   "metadata": {},
   "source": [
    "### 에러 제곱의 합: Square Error\n",
    "### 에러제곱의 합의 평균: Mean Square Error"
   ]
  },
  {
   "cell_type": "markdown",
   "id": "266260fa",
   "metadata": {},
   "source": [
    "## 경사하강법을 사용해서 에러가 가장 낮아지는 지점을 구한다"
   ]
  },
  {
   "cell_type": "markdown",
   "id": "6b4908d9",
   "metadata": {},
   "source": [
    "### Feature Extraction"
   ]
  },
  {
   "cell_type": "markdown",
   "id": "6dc5e6c9",
   "metadata": {},
   "source": [
    "## 회귀 평가지표란??\n",
    "    1.MAE(mean absolute error) = \n",
    "    2.MSE(mean square error)\n",
    "    3.RMSE(root Mean squared error)\n",
    "    4. r^2\n",
    "    5. r^2이 0이 되는 경우?\n",
    "    6. 음수가 되는 경우?"
   ]
  },
  {
   "cell_type": "markdown",
   "id": "16a162ed",
   "metadata": {},
   "source": [
    "## 지금까지 회귀모델의 목적은?\n",
    "## => cost function 을 최소화하는것!"
   ]
  },
  {
   "cell_type": "markdown",
   "id": "9bb97d96",
   "metadata": {},
   "source": [
    "## 근데 이게 위험할수도 있다!\n",
    "## overfitting의 문제점"
   ]
  },
  {
   "cell_type": "markdown",
   "id": "95db5ff8",
   "metadata": {},
   "source": [
    "## 회귀모델이 위험할수 있는 이유는\n",
    "## 아웃라이어가 있다면 아웃라이어에 맞춰서\n",
    "## cost function 최소화 하니까 아웃라이어때문에 방향이 틀어질수 있다"
   ]
  },
  {
   "cell_type": "markdown",
   "id": "325aa2eb",
   "metadata": {},
   "source": [
    "## RSS란?"
   ]
  },
  {
   "cell_type": "markdown",
   "id": "813bbbc4",
   "metadata": {},
   "source": [
    "## Lasso Regression 이란?\n",
    "=> Least Absoulte Shrinkage and Selection Operator\n",
    "=> from sklearn.linear_model import Lasso"
   ]
  },
  {
   "cell_type": "markdown",
   "id": "734c2156",
   "metadata": {},
   "source": [
    "## Ridge란?"
   ]
  },
  {
   "cell_type": "markdown",
   "id": "59d29d3c",
   "metadata": {},
   "source": [
    "## Ridge Lasso란?"
   ]
  },
  {
   "cell_type": "markdown",
   "id": "3ac3b0dd",
   "metadata": {},
   "source": [
    "## L2 vs L1 Norm 이란?"
   ]
  },
  {
   "cell_type": "markdown",
   "id": "1555b8a5",
   "metadata": {},
   "source": [
    "## manhattan distance 란?"
   ]
  },
  {
   "cell_type": "markdown",
   "id": "045ea035",
   "metadata": {},
   "source": [
    "    1.일반선형회귀\n",
    "    2.릿지(ridge) = 일반선형회귀+L2규제\n",
    "    3.라쏘(Lasso) = 일반선형회귀+L1규제\n",
    "    4. 엘라스틱넷(elasticNet)= 일반선형회귀 + L1규제+L2규제\n",
    "    5. 로지스틱 회귀"
   ]
  },
  {
   "cell_type": "markdown",
   "id": "8fe37018",
   "metadata": {},
   "source": [
    "## Linear regression vs Logistic Regression?"
   ]
  },
  {
   "cell_type": "markdown",
   "id": "721eb7a2",
   "metadata": {},
   "source": [
    "## threshold를 바꿔줄수는 있지만\n",
    "=> 사람이 조정하는게 아니라 \n",
    "=> 머신이 알아서 threshold를 알아서 바꾸게 할수 있지 않을까?\n",
    "=> 그거를 activate function 으로 \n",
    "=> sigmoid function으로 이용"
   ]
  },
  {
   "cell_type": "code",
   "execution_count": null,
   "id": "adbc05fb",
   "metadata": {},
   "outputs": [],
   "source": []
  },
  {
   "cell_type": "markdown",
   "id": "ae9e2a36",
   "metadata": {},
   "source": [
    "## Dimension Reduction \n",
    "=> 차원축소는 왜, 언제 들어가야 되는겁니까?\n",
    "=> 보통 corrleation 값이 0.8이상일때 들어간다"
   ]
  },
  {
   "cell_type": "code",
   "execution_count": null,
   "id": "405acbcf",
   "metadata": {},
   "outputs": [],
   "source": []
  },
  {
   "cell_type": "markdown",
   "id": "701db19d",
   "metadata": {},
   "source": [
    "## 다중공선성이란?"
   ]
  },
  {
   "cell_type": "code",
   "execution_count": null,
   "id": "23fcd978",
   "metadata": {},
   "outputs": [],
   "source": []
  },
  {
   "cell_type": "markdown",
   "id": "63df9565",
   "metadata": {},
   "source": [
    "## find Maximum eigen value"
   ]
  },
  {
   "cell_type": "code",
   "execution_count": null,
   "id": "db67b0c5",
   "metadata": {},
   "outputs": [],
   "source": []
  }
 ],
 "metadata": {
  "kernelspec": {
   "display_name": "Python 3 (ipykernel)",
   "language": "python",
   "name": "python3"
  },
  "language_info": {
   "codemirror_mode": {
    "name": "ipython",
    "version": 3
   },
   "file_extension": ".py",
   "mimetype": "text/x-python",
   "name": "python",
   "nbconvert_exporter": "python",
   "pygments_lexer": "ipython3",
   "version": "3.8.11"
  }
 },
 "nbformat": 4,
 "nbformat_minor": 5
}
