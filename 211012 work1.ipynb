{
 "cells": [
  {
   "cell_type": "code",
   "execution_count": 1,
   "id": "23f6ecf6",
   "metadata": {},
   "outputs": [],
   "source": [
    "import tensorflow as tf"
   ]
  },
  {
   "cell_type": "code",
   "execution_count": 2,
   "id": "a2e7108d",
   "metadata": {},
   "outputs": [],
   "source": [
    "import matplotlib.pyplot as plt\n",
    "import numpy as np\n",
    "import pandas as pd"
   ]
  },
  {
   "cell_type": "code",
   "execution_count": 3,
   "id": "52377fb7",
   "metadata": {},
   "outputs": [
    {
     "data": {
      "text/plain": [
       "'2.3.0'"
      ]
     },
     "execution_count": 3,
     "metadata": {},
     "output_type": "execute_result"
    }
   ],
   "source": [
    "tf.__version__"
   ]
  },
  {
   "cell_type": "code",
   "execution_count": 4,
   "id": "c613ad23",
   "metadata": {},
   "outputs": [
    {
     "data": {
      "text/plain": [
       "'2.4.0'"
      ]
     },
     "execution_count": 4,
     "metadata": {},
     "output_type": "execute_result"
    }
   ],
   "source": [
    "tf.keras.__version__"
   ]
  },
  {
   "cell_type": "markdown",
   "id": "c16c68c0",
   "metadata": {},
   "source": [
    "## 데이터 적재"
   ]
  },
  {
   "cell_type": "code",
   "execution_count": 5,
   "id": "ae66a3e0",
   "metadata": {},
   "outputs": [],
   "source": [
    "from tensorflow.keras.datasets import mnist"
   ]
  },
  {
   "cell_type": "code",
   "execution_count": 6,
   "id": "910a6573",
   "metadata": {},
   "outputs": [],
   "source": [
    "(train_images, train_labels), (test_images, test_labels) = mnist.load_data()"
   ]
  },
  {
   "cell_type": "code",
   "execution_count": 7,
   "id": "630ed6fb",
   "metadata": {},
   "outputs": [
    {
     "data": {
      "text/plain": [
       "((60000, 28, 28), (60000,))"
      ]
     },
     "execution_count": 7,
     "metadata": {},
     "output_type": "execute_result"
    }
   ],
   "source": [
    "train_images.shape, train_labels.shape\n"
   ]
  },
  {
   "cell_type": "code",
   "execution_count": 8,
   "id": "4ce3780f",
   "metadata": {},
   "outputs": [
    {
     "data": {
      "text/plain": [
       "((10000, 28, 28), (10000,))"
      ]
     },
     "execution_count": 8,
     "metadata": {},
     "output_type": "execute_result"
    }
   ],
   "source": [
    "test_images.shape, test_labels.shape"
   ]
  },
  {
   "cell_type": "markdown",
   "id": "ba47d21d",
   "metadata": {},
   "source": [
    "## 데이터 시각화"
   ]
  },
  {
   "cell_type": "code",
   "execution_count": 9,
   "id": "a9f6e568",
   "metadata": {},
   "outputs": [
    {
     "data": {
      "text/plain": [
       "<matplotlib.image.AxesImage at 0x16921ca0cd0>"
      ]
     },
     "execution_count": 9,
     "metadata": {},
     "output_type": "execute_result"
    },
    {
     "data": {
      "image/png": "[encoded data removed]",
      "text/plain": [
       "<Figure size 432x288 with 1 Axes>"
      ]
     },
     "metadata": {
      "needs_background": "light"
     },
     "output_type": "display_data"
    }
   ],
   "source": [
    "plt.imshow(train_images[0], cmap='binary')"
   ]
  },
  {
   "cell_type": "code",
   "execution_count": 10,
   "id": "3840c0e9",
   "metadata": {},
   "outputs": [
    {
     "data": {
      "image/png": "[encoded data removed]",
      "text/plain": [
       "<Figure size 1584x432 with 8 Axes>"
      ]
     },
     "metadata": {
      "needs_background": "light"
     },
     "output_type": "display_data"
    }
   ],
   "source": [
    "fig, ax = plt.subplots(figsize=(22,6), nrows=1, ncols=8)\n",
    "\n",
    "for i in range(8):\n",
    "    ax[i].imshow(train_images[i], cmap='gray')"
   ]
  },
  {
   "cell_type": "code",
   "execution_count": 11,
   "id": "952cccd7",
   "metadata": {},
   "outputs": [
    {
     "data": {
      "text/plain": [
       "array([5, 0, 4, 1, 9, 2, 1, 3], dtype=uint8)"
      ]
     },
     "execution_count": 11,
     "metadata": {},
     "output_type": "execute_result"
    }
   ],
   "source": [
    "train_labels[:8]"
   ]
  },
  {
   "cell_type": "markdown",
   "id": "7051768d",
   "metadata": {},
   "source": [
    "## 데이터 전처리"
   ]
  },
  {
   "cell_type": "markdown",
   "id": "a1441e01",
   "metadata": {},
   "source": [
    "### 첫번째 이미지 정규화 시켜준다 => /255로 픽셀을 나눠준다"
   ]
  },
  {
   "cell_type": "code",
   "execution_count": 12,
   "id": "847ea55c",
   "metadata": {},
   "outputs": [],
   "source": [
    "from tensorflow.keras.utils import to_categorical"
   ]
  },
  {
   "cell_type": "code",
   "execution_count": 13,
   "id": "6091034a",
   "metadata": {},
   "outputs": [
    {
     "data": {
      "text/plain": [
       "(28, 28)"
      ]
     },
     "execution_count": 13,
     "metadata": {},
     "output_type": "execute_result"
    }
   ],
   "source": [
    "train_images[0].shape"
   ]
  },
  {
   "cell_type": "code",
   "execution_count": 14,
   "id": "42afaf63",
   "metadata": {},
   "outputs": [],
   "source": [
    "# 픽셀값 / 255로 나눠준다 => 정규화\n",
    "train_images = np.array(train_images/255.0, dtype=np.float32)\n",
    "train_labels = np.array(train_labels, dtype=np.float32)\n",
    "\n",
    "test_images = np.array(test_images/255.0, dtype=np.float32)\n",
    "test_labels= np.array(test_labels, dtype=np.float32)"
   ]
  },
  {
   "cell_type": "code",
   "execution_count": 15,
   "id": "e146e56b",
   "metadata": {},
   "outputs": [],
   "source": [
    "# one -hot -encoding\n",
    "\n",
    "train_labels_ohe = to_categorical(train_labels)\n",
    "test_labels_ohe = to_categorical(test_labels)"
   ]
  },
  {
   "cell_type": "markdown",
   "id": "26aa2571",
   "metadata": {},
   "source": [
    "## 모델 생성"
   ]
  },
  {
   "cell_type": "code",
   "execution_count": 16,
   "id": "6242853c",
   "metadata": {},
   "outputs": [],
   "source": [
    "from tensorflow.keras.layers import Dense, Flatten\n",
    "from tensorflow.keras.models import Sequential"
   ]
  },
  {
   "cell_type": "code",
   "execution_count": 17,
   "id": "9b6f10bb",
   "metadata": {},
   "outputs": [],
   "source": [
    "model = Sequential([\n",
    "    Flatten(input_shape=(28,28)),\n",
    "    Dense(50, activation='sigmoid'), \n",
    "    Dense(10, activation='softmax')\n",
    "])"
   ]
  },
  {
   "cell_type": "code",
   "execution_count": 18,
   "id": "8fdaf415",
   "metadata": {},
   "outputs": [
    {
     "name": "stdout",
     "output_type": "stream",
     "text": [
      "Model: \"sequential\"\n",
      "_________________________________________________________________\n",
      "Layer (type)                 Output Shape              Param #   \n",
      "=================================================================\n",
      "flatten (Flatten)            (None, 784)               0         \n",
      "_________________________________________________________________\n",
      "dense (Dense)                (None, 50)                39250     \n",
      "_________________________________________________________________\n",
      "dense_1 (Dense)              (None, 10)                510       \n",
      "=================================================================\n",
      "Total params: 39,760\n",
      "Trainable params: 39,760\n",
      "Non-trainable params: 0\n",
      "_________________________________________________________________\n"
     ]
    }
   ],
   "source": [
    "# 모델확인 \n",
    "model.summary()"
   ]
  },
  {
   "cell_type": "code",
   "execution_count": 19,
   "id": "0367b264",
   "metadata": {},
   "outputs": [],
   "source": [
    "model1 = Sequential()\n",
    "model1.add(Flatten(input_shape=(28,28)))\n",
    "model1.add(Dense(50, activation='sigmoid'))\n",
    "model1.add(Dense(10, activation='softmax'))"
   ]
  },
  {
   "cell_type": "code",
   "execution_count": 20,
   "id": "c1d2f76b",
   "metadata": {},
   "outputs": [
    {
     "name": "stdout",
     "output_type": "stream",
     "text": [
      "Model: \"sequential_1\"\n",
      "_________________________________________________________________\n",
      "Layer (type)                 Output Shape              Param #   \n",
      "=================================================================\n",
      "flatten_1 (Flatten)          (None, 784)               0         \n",
      "_________________________________________________________________\n",
      "dense_2 (Dense)              (None, 50)                39250     \n",
      "_________________________________________________________________\n",
      "dense_3 (Dense)              (None, 10)                510       \n",
      "=================================================================\n",
      "Total params: 39,760\n",
      "Trainable params: 39,760\n",
      "Non-trainable params: 0\n",
      "_________________________________________________________________\n"
     ]
    }
   ],
   "source": [
    "model1.summary()"
   ]
  },
  {
   "cell_type": "markdown",
   "id": "d57aa7ce",
   "metadata": {},
   "source": [
    "## 모델 컴파일"
   ]
  },
  {
   "cell_type": "code",
   "execution_count": 21,
   "id": "955a4dfe",
   "metadata": {},
   "outputs": [],
   "source": [
    "from tensorflow.keras.optimizers import SGD"
   ]
  },
  {
   "cell_type": "code",
   "execution_count": 22,
   "id": "9abaf99b",
   "metadata": {},
   "outputs": [],
   "source": [
    "# model.compile(optimizer, loss, metrics)\n",
    "\n",
    "model.compile(optimizer= SGD(learning_rate=0.1), \n",
    "             loss='categorical_crossentropy',\n",
    "             metrics=['accuracy'])"
   ]
  },
  {
   "cell_type": "markdown",
   "id": "4a663d91",
   "metadata": {},
   "source": [
    "## 모델 학습"
   ]
  },
  {
   "cell_type": "code",
   "execution_count": 26,
   "id": "00f55023",
   "metadata": {},
   "outputs": [
    {
     "name": "stdout",
     "output_type": "stream",
     "text": [
      "Epoch 1/17\n",
      "480/480 [==============================] - 1s 2ms/step - loss: 0.1891 - accuracy: 0.9461 - val_loss: 0.1881 - val_accuracy: 0.9477\n",
      "Epoch 2/17\n",
      "480/480 [==============================] - 1s 1ms/step - loss: 0.1841 - accuracy: 0.9468 - val_loss: 0.1840 - val_accuracy: 0.9477\n",
      "Epoch 3/17\n",
      "480/480 [==============================] - 1s 1ms/step - loss: 0.1793 - accuracy: 0.9486 - val_loss: 0.1805 - val_accuracy: 0.9492\n",
      "Epoch 4/17\n",
      "480/480 [==============================] - 1s 1ms/step - loss: 0.1750 - accuracy: 0.9497 - val_loss: 0.1772 - val_accuracy: 0.9498\n",
      "Epoch 5/17\n",
      "480/480 [==============================] - 1s 1ms/step - loss: 0.1706 - accuracy: 0.9510 - val_loss: 0.1748 - val_accuracy: 0.9507\n",
      "Epoch 6/17\n",
      "480/480 [==============================] - 1s 1ms/step - loss: 0.1667 - accuracy: 0.9524 - val_loss: 0.1715 - val_accuracy: 0.9508\n",
      "Epoch 7/17\n",
      "480/480 [==============================] - 1s 1ms/step - loss: 0.1630 - accuracy: 0.9532 - val_loss: 0.1682 - val_accuracy: 0.9522\n",
      "Epoch 8/17\n",
      "480/480 [==============================] - 1s 1ms/step - loss: 0.1593 - accuracy: 0.9542 - val_loss: 0.1662 - val_accuracy: 0.9524\n",
      "Epoch 9/17\n",
      "480/480 [==============================] - 1s 1ms/step - loss: 0.1558 - accuracy: 0.9558 - val_loss: 0.1639 - val_accuracy: 0.9535\n",
      "Epoch 10/17\n",
      "480/480 [==============================] - 1s 1ms/step - loss: 0.1526 - accuracy: 0.9563 - val_loss: 0.1613 - val_accuracy: 0.9548\n",
      "Epoch 11/17\n",
      "480/480 [==============================] - 1s 1ms/step - loss: 0.1494 - accuracy: 0.9571 - val_loss: 0.1586 - val_accuracy: 0.9553\n",
      "Epoch 12/17\n",
      "480/480 [==============================] - 1s 1ms/step - loss: 0.1465 - accuracy: 0.9584 - val_loss: 0.1573 - val_accuracy: 0.9547\n",
      "Epoch 13/17\n",
      "480/480 [==============================] - 1s 1ms/step - loss: 0.1437 - accuracy: 0.9593 - val_loss: 0.1545 - val_accuracy: 0.9554\n",
      "Epoch 14/17\n",
      "480/480 [==============================] - 1s 1ms/step - loss: 0.1409 - accuracy: 0.9600 - val_loss: 0.1528 - val_accuracy: 0.9561\n",
      "Epoch 15/17\n",
      "480/480 [==============================] - 1s 1ms/step - loss: 0.1383 - accuracy: 0.9609 - val_loss: 0.1507 - val_accuracy: 0.9563\n",
      "Epoch 16/17\n",
      "480/480 [==============================] - 1s 1ms/step - loss: 0.1358 - accuracy: 0.9617 - val_loss: 0.1487 - val_accuracy: 0.9572\n",
      "Epoch 17/17\n",
      "480/480 [==============================] - 1s 1ms/step - loss: 0.1333 - accuracy: 0.9622 - val_loss: 0.1474 - val_accuracy: 0.9575\n"
     ]
    }
   ],
   "source": [
    "history = model.fit(x=train_images, y=train_labels_ohe, validation_split= 0.2,\n",
    "         batch_size=100, epochs=17, verbose=1)"
   ]
  },
  {
   "cell_type": "code",
   "execution_count": 27,
   "id": "24bf3133",
   "metadata": {},
   "outputs": [
    {
     "data": {
      "text/plain": [
       "[0.1890893578529358,\n",
       " 0.18412674963474274,\n",
       " 0.17930226027965546,\n",
       " 0.17497192323207855,\n",
       " 0.17064641416072845,\n",
       " 0.16669020056724548,\n",
       " 0.16299501061439514,\n",
       " 0.15931636095046997,\n",
       " 0.15580010414123535,\n",
       " 0.15261892974376678,\n",
       " 0.14937801659107208,\n",
       " 0.14648112654685974,\n",
       " 0.1436508297920227,\n",
       " 0.14091557264328003,\n",
       " 0.1382758766412735,\n",
       " 0.13576103746891022,\n",
       " 0.13332810997962952]"
      ]
     },
     "execution_count": 27,
     "metadata": {},
     "output_type": "execute_result"
    }
   ],
   "source": [
    "history.history['loss']"
   ]
  },
  {
   "cell_type": "code",
   "execution_count": 28,
   "id": "96b2ad87",
   "metadata": {},
   "outputs": [
    {
     "data": {
      "text/plain": [
       "[0.9460625052452087,\n",
       " 0.9467708468437195,\n",
       " 0.948562502861023,\n",
       " 0.9496874809265137,\n",
       " 0.9509791731834412,\n",
       " 0.9524166584014893,\n",
       " 0.953249990940094,\n",
       " 0.9542083144187927,\n",
       " 0.9557708501815796,\n",
       " 0.956291675567627,\n",
       " 0.9571041464805603,\n",
       " 0.9584375023841858,\n",
       " 0.9593124985694885,\n",
       " 0.9599791765213013,\n",
       " 0.960854172706604,\n",
       " 0.9616666436195374,\n",
       " 0.9622291922569275]"
      ]
     },
     "execution_count": 28,
     "metadata": {},
     "output_type": "execute_result"
    }
   ],
   "source": [
    "history.history['accuracy']"
   ]
  },
  {
   "cell_type": "markdown",
   "id": "834a9172",
   "metadata": {},
   "source": [
    "## 시험데이터로 예측 "
   ]
  },
  {
   "cell_type": "code",
   "execution_count": 29,
   "id": "6040feee",
   "metadata": {},
   "outputs": [
    {
     "name": "stdout",
     "output_type": "stream",
     "text": [
      "100/100 [==============================] - 0s 1ms/step - loss: 0.1453 - accuracy: 0.9581\n"
     ]
    },
    {
     "data": {
      "text/plain": [
       "[0.14533871412277222, 0.9581000208854675]"
      ]
     },
     "execution_count": 29,
     "metadata": {},
     "output_type": "execute_result"
    }
   ],
   "source": [
    "model.evaluate(test_images, test_labels_ohe, batch_size=100)"
   ]
  },
  {
   "cell_type": "code",
   "execution_count": 33,
   "id": "961c9c27",
   "metadata": {},
   "outputs": [
    {
     "data": {
      "text/plain": [
       "<matplotlib.legend.Legend at 0x16920c3ec10>"
      ]
     },
     "execution_count": 33,
     "metadata": {},
     "output_type": "execute_result"
    },
    {
     "data": {
      "image/png": "[encoded data removed]",
      "text/plain": [
       "<Figure size 432x288 with 1 Axes>"
      ]
     },
     "metadata": {
      "needs_background": "light"
     },
     "output_type": "display_data"
    }
   ],
   "source": [
    "plt.plot(history.history['accuracy'], label=\"train\")\n",
    "plt.plot(history.history['val_accuracy'], label='valid')\n",
    "plt.legend()"
   ]
  },
  {
   "cell_type": "code",
   "execution_count": 41,
   "id": "11f38bc4",
   "metadata": {},
   "outputs": [],
   "source": [
    "predict_prob = model.predict(test_images)"
   ]
  },
  {
   "cell_type": "code",
   "execution_count": 42,
   "id": "b042f0cd",
   "metadata": {},
   "outputs": [
    {
     "data": {
      "text/plain": [
       "(10000, 10)"
      ]
     },
     "execution_count": 42,
     "metadata": {},
     "output_type": "execute_result"
    }
   ],
   "source": [
    "predict_prob.shape"
   ]
  },
  {
   "cell_type": "code",
   "execution_count": 43,
   "id": "084d9c8d",
   "metadata": {},
   "outputs": [
    {
     "data": {
      "text/plain": [
       "array([7.5155593e-05, 1.3096222e-06, 8.5642200e-04, 1.7687002e-03,\n",
       "       1.5384701e-06, 1.1103760e-04, 1.8954029e-08, 9.9675202e-01,\n",
       "       1.2066307e-05, 4.2171596e-04], dtype=float32)"
      ]
     },
     "execution_count": 43,
     "metadata": {},
     "output_type": "execute_result"
    }
   ],
   "source": [
    "predict_prob[0]"
   ]
  },
  {
   "cell_type": "code",
   "execution_count": 37,
   "id": "aa5ca5b4",
   "metadata": {},
   "outputs": [],
   "source": [
    "test_image0_predict = model.predict(np.reshape(test_images[0], (-1, 28,28)))"
   ]
  },
  {
   "cell_type": "code",
   "execution_count": 38,
   "id": "f3741662",
   "metadata": {},
   "outputs": [
    {
     "data": {
      "text/plain": [
       "array([[7.5155520e-05, 1.3096222e-06, 8.5642200e-04, 1.7687002e-03,\n",
       "        1.5384701e-06, 1.1103760e-04, 1.8954029e-08, 9.9675202e-01,\n",
       "        1.2066318e-05, 4.2171596e-04]], dtype=float32)"
      ]
     },
     "execution_count": 38,
     "metadata": {},
     "output_type": "execute_result"
    }
   ],
   "source": [
    "test_image0_predict"
   ]
  },
  {
   "cell_type": "code",
   "execution_count": 39,
   "id": "410df87b",
   "metadata": {},
   "outputs": [
    {
     "data": {
      "text/plain": [
       "(1, 28, 28)"
      ]
     },
     "execution_count": 39,
     "metadata": {},
     "output_type": "execute_result"
    }
   ],
   "source": [
    "np.reshape(test_images[0], (-1,28,28)).shape"
   ]
  },
  {
   "cell_type": "code",
   "execution_count": null,
   "id": "93c54058",
   "metadata": {},
   "outputs": [],
   "source": [
    "# 차원 팽창 np.expand_dims"
   ]
  }
 ],
 "metadata": {
  "kernelspec": {
   "display_name": "Python 3 (ipykernel)",
   "language": "python",
   "name": "python3"
  },
  "language_info": {
   "codemirror_mode": {
    "name": "ipython",
    "version": 3
   },
   "file_extension": ".py",
   "mimetype": "text/x-python",
   "name": "python",
   "nbconvert_exporter": "python",
   "pygments_lexer": "ipython3",
   "version": "3.8.11"
  }
 },
 "nbformat": 4,
 "nbformat_minor": 5
}
