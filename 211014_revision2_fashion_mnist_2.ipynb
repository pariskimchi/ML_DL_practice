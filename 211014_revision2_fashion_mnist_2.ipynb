{
 "cells": [
  {
   "cell_type": "markdown",
   "id": "206ae63e",
   "metadata": {},
   "source": [
    "### fashion mnist dataset 신경망에서 훈련"
   ]
  },
  {
   "cell_type": "code",
   "execution_count": 3,
   "id": "2488d5eb",
   "metadata": {},
   "outputs": [],
   "source": [
    "import tensorflow as tf \n",
    "import matplotlib.pyplot as plt \n",
    "import numpy as np\n",
    "\n",
    "from tensorflow.keras.utils import to_categorical\n",
    "from tensorflow.keras.layers import Input, Dense, Flatten\n",
    "from tensorflow.keras.models import Sequential\n",
    "from tensorflow.keras.optimizers import SGD, Adam \n",
    "\n",
    "from tensorflow.keras.models import Model, load_model\n",
    "from tensorflow.keras.callbacks import ModelCheckpoint, EarlyStopping, ReduceLROnPlateau"
   ]
  },
  {
   "cell_type": "code",
   "execution_count": 4,
   "id": "ea1d1a6b",
   "metadata": {},
   "outputs": [
    {
     "data": {
      "text/plain": [
       "'2.3.0'"
      ]
     },
     "execution_count": 4,
     "metadata": {},
     "output_type": "execute_result"
    }
   ],
   "source": [
    "tf.__version__"
   ]
  },
  {
   "cell_type": "code",
   "execution_count": 5,
   "id": "e8f61795",
   "metadata": {},
   "outputs": [
    {
     "data": {
      "text/plain": [
       "'2.4.0'"
      ]
     },
     "execution_count": 5,
     "metadata": {},
     "output_type": "execute_result"
    }
   ],
   "source": [
    "tf.keras.__version__"
   ]
  },
  {
   "cell_type": "markdown",
   "id": "97fff830",
   "metadata": {},
   "source": [
    "### 데이터 적재"
   ]
  },
  {
   "cell_type": "code",
   "execution_count": 6,
   "id": "a5c40791",
   "metadata": {},
   "outputs": [],
   "source": [
    "from tensorflow.keras.datasets import fashion_mnist"
   ]
  },
  {
   "cell_type": "code",
   "execution_count": 7,
   "id": "06e7a4ab",
   "metadata": {},
   "outputs": [],
   "source": [
    "(train_images, train_labels), (test_images, test_labels) = fashion_mnist.load_data()"
   ]
  },
  {
   "cell_type": "code",
   "execution_count": 8,
   "id": "e0b80e42",
   "metadata": {},
   "outputs": [
    {
     "data": {
      "text/plain": [
       "((60000, 28, 28), (60000,))"
      ]
     },
     "execution_count": 8,
     "metadata": {},
     "output_type": "execute_result"
    }
   ],
   "source": [
    "train_images.shape, train_labels.shape"
   ]
  },
  {
   "cell_type": "code",
   "execution_count": 9,
   "id": "6bf8ee02",
   "metadata": {},
   "outputs": [
    {
     "data": {
      "text/plain": [
       "((10000, 28, 28), (10000,))"
      ]
     },
     "execution_count": 9,
     "metadata": {},
     "output_type": "execute_result"
    }
   ],
   "source": [
    "test_images.shape, test_labels.shape"
   ]
  },
  {
   "cell_type": "markdown",
   "id": "d15e2d1b",
   "metadata": {},
   "source": [
    "### 데이터 시각화"
   ]
  },
  {
   "cell_type": "code",
   "execution_count": 10,
   "id": "8724cd39",
   "metadata": {},
   "outputs": [
    {
     "data": {
      "text/plain": [
       "<matplotlib.image.AxesImage at 0x1efcfe5fe20>"
      ]
     },
     "execution_count": 10,
     "metadata": {},
     "output_type": "execute_result"
    },
    {
     "data": {
      "image/png": "[encoded data removed]",
      "text/plain": [
       "<Figure size 432x288 with 1 Axes>"
      ]
     },
     "metadata": {
      "needs_background": "light"
     },
     "output_type": "display_data"
    }
   ],
   "source": [
    "plt.imshow(train_images[0], cmap='gray')"
   ]
  },
  {
   "cell_type": "code",
   "execution_count": 11,
   "id": "eab75da9",
   "metadata": {},
   "outputs": [],
   "source": [
    "class_names = ['T-shirt/top','Trouser','Pullover','Dress','Coat','Sandal','Shirt','Sneaker','Bag','Ankle boot']"
   ]
  },
  {
   "cell_type": "code",
   "execution_count": 12,
   "id": "3e90e12d",
   "metadata": {},
   "outputs": [
    {
     "data": {
      "image/png": "[encoded data removed]",
      "text/plain": [
       "<Figure size 1584x432 with 8 Axes>"
      ]
     },
     "metadata": {
      "needs_background": "light"
     },
     "output_type": "display_data"
    }
   ],
   "source": [
    "fig, ax = plt.subplots(figsize=(22,6), nrows=1, ncols=8)\n",
    "for i in range(8):\n",
    "    ax[i].imshow(train_images[i], cmap='gray')\n",
    "    ax[i].set_title(class_names[train_labels[i]])"
   ]
  },
  {
   "cell_type": "code",
   "execution_count": 13,
   "id": "f86f8a9d",
   "metadata": {},
   "outputs": [
    {
     "data": {
      "text/plain": [
       "array([9, 0, 0, 3, 0, 2, 7, 2], dtype=uint8)"
      ]
     },
     "execution_count": 13,
     "metadata": {},
     "output_type": "execute_result"
    }
   ],
   "source": [
    "train_labels[:8]"
   ]
  },
  {
   "cell_type": "markdown",
   "id": "3be5456e",
   "metadata": {},
   "source": [
    "## 데이터 전처리"
   ]
  },
  {
   "cell_type": "code",
   "execution_count": 14,
   "id": "d1846928",
   "metadata": {},
   "outputs": [],
   "source": [
    "train_images = np.array(train_images/255.0, dtype=np.float32)\n",
    "train_labels = np.array(train_labels, dtype=np.float32)\n",
    "\n",
    "test_images = np.array(test_images/255.0, dtype=np.float32)\n",
    "test_labels = np.array(test_labels, dtype=np.float32)"
   ]
  },
  {
   "cell_type": "code",
   "execution_count": 15,
   "id": "31a5066f",
   "metadata": {},
   "outputs": [],
   "source": [
    "train_labels_ohe = to_categorical(train_labels)\n",
    "test_labels_ohe = to_categorical(test_labels)"
   ]
  },
  {
   "cell_type": "markdown",
   "id": "c8bc0e93",
   "metadata": {},
   "source": [
    "## 모델 생성"
   ]
  },
  {
   "cell_type": "code",
   "execution_count": 16,
   "id": "e95181fc",
   "metadata": {},
   "outputs": [
    {
     "name": "stdout",
     "output_type": "stream",
     "text": [
      "Model: \"functional_1\"\n",
      "_________________________________________________________________\n",
      "Layer (type)                 Output Shape              Param #   \n",
      "=================================================================\n",
      "input_1 (InputLayer)         [(None, 28, 28)]          0         \n",
      "_________________________________________________________________\n",
      "flatten (Flatten)            (None, 784)               0         \n",
      "_________________________________________________________________\n",
      "dense (Dense)                (None, 100)               78500     \n",
      "_________________________________________________________________\n",
      "dense_1 (Dense)              (None, 50)                5050      \n",
      "_________________________________________________________________\n",
      "dense_2 (Dense)              (None, 50)                2550      \n",
      "_________________________________________________________________\n",
      "dense_3 (Dense)              (None, 30)                1530      \n",
      "_________________________________________________________________\n",
      "dense_4 (Dense)              (None, 10)                310       \n",
      "=================================================================\n",
      "Total params: 87,940\n",
      "Trainable params: 87,940\n",
      "Non-trainable params: 0\n",
      "_________________________________________________________________\n"
     ]
    }
   ],
   "source": [
    "tf.keras.backend.clear_session()\n",
    "\n",
    "input_tensor = Input(shape=(28,28))\n",
    "x = Flatten()(input_tensor)\n",
    "x = Dense(100, activation='relu')(x)\n",
    "x = Dense(50, activation='relu')(x)\n",
    "x = Dense(50, activation='relu')(x)\n",
    "x = Dense(30, activation='relu')(x)\n",
    "output = Dense(10, activation='softmax')(x)\n",
    "\n",
    "model = Model(inputs = input_tensor, outputs=output)\n",
    "model.summary()"
   ]
  },
  {
   "cell_type": "markdown",
   "id": "8a9e7176",
   "metadata": {},
   "source": [
    "### 모델 컴파일"
   ]
  },
  {
   "cell_type": "code",
   "execution_count": 17,
   "id": "be9a0e7b",
   "metadata": {},
   "outputs": [],
   "source": [
    "model.compile(optimizer=Adam(learning_rate=0.001), loss='categorical_crossentropy',metrics=['accuracy'])"
   ]
  },
  {
   "cell_type": "markdown",
   "id": "e903cc14",
   "metadata": {},
   "source": [
    "## 모델 학습"
   ]
  },
  {
   "cell_type": "code",
   "execution_count": 18,
   "id": "47d62782",
   "metadata": {},
   "outputs": [],
   "source": [
    "checkpoint_cb = ModelCheckpoint(\"my_keras_model.h5\", save_best_only=True, verbose=1)"
   ]
  },
  {
   "cell_type": "code",
   "execution_count": 19,
   "id": "23cdcdc4",
   "metadata": {},
   "outputs": [],
   "source": [
    "early_stopping_cb = EarlyStopping(monitor=\"val_loss\",patience = 30, restore_best_weights=True)"
   ]
  },
  {
   "cell_type": "code",
   "execution_count": 20,
   "id": "576f5539",
   "metadata": {},
   "outputs": [],
   "source": [
    "reducelr_cb = ReduceLROnPlateau(monitor='val_loss',factor=0.1, patience=10, verbose=1)"
   ]
  },
  {
   "cell_type": "code",
   "execution_count": 21,
   "id": "57e63355",
   "metadata": {},
   "outputs": [
    {
     "name": "stdout",
     "output_type": "stream",
     "text": [
      "Epoch 1/50\n",
      "730/750 [============================>.] - ETA: 0s - loss: 0.5876 - accuracy: 0.7945\n",
      "Epoch 00001: val_loss improved from inf to 0.54442, saving model to my_keras_model.h5\n",
      "750/750 [==============================] - 2s 2ms/step - loss: 0.5846 - accuracy: 0.7956 - val_loss: 0.5444 - val_accuracy: 0.8067\n",
      "Epoch 2/50\n",
      "717/750 [===========================>..] - ETA: 0s - loss: 0.4015 - accuracy: 0.8545\n",
      "Epoch 00002: val_loss improved from 0.54442 to 0.37582, saving model to my_keras_model.h5\n",
      "750/750 [==============================] - 2s 3ms/step - loss: 0.4002 - accuracy: 0.8549 - val_loss: 0.3758 - val_accuracy: 0.8644\n",
      "Epoch 3/50\n",
      "736/750 [============================>.] - ETA: 0s - loss: 0.3556 - accuracy: 0.8697 ETA: 0s - loss: 0\n",
      "Epoch 00003: val_loss improved from 0.37582 to 0.37569, saving model to my_keras_model.h5\n",
      "750/750 [==============================] - 2s 2ms/step - loss: 0.3555 - accuracy: 0.8698 - val_loss: 0.3757 - val_accuracy: 0.8616\n",
      "Epoch 4/50\n",
      "719/750 [===========================>..] - ETA: 0s - loss: 0.3289 - accuracy: 0.8782\n",
      "Epoch 00004: val_loss improved from 0.37569 to 0.35304, saving model to my_keras_model.h5\n",
      "750/750 [==============================] - 2s 2ms/step - loss: 0.3302 - accuracy: 0.8779 - val_loss: 0.3530 - val_accuracy: 0.8702\n",
      "Epoch 5/50\n",
      "715/750 [===========================>..] - ETA: 0s - loss: 0.3119 - accuracy: 0.8863 ETA: 0s - loss: 0.3086 - \n",
      "Epoch 00005: val_loss did not improve from 0.35304\n",
      "750/750 [==============================] - 1s 2ms/step - loss: 0.3119 - accuracy: 0.8864 - val_loss: 0.3542 - val_accuracy: 0.8742\n",
      "Epoch 6/50\n",
      "718/750 [===========================>..] - ETA: 0s - loss: 0.2939 - accuracy: 0.8915\n",
      "Epoch 00006: val_loss improved from 0.35304 to 0.35217, saving model to my_keras_model.h5\n",
      "750/750 [==============================] - 2s 2ms/step - loss: 0.2935 - accuracy: 0.8915 - val_loss: 0.3522 - val_accuracy: 0.8715\n",
      "Epoch 7/50\n",
      "732/750 [============================>.] - ETA: 0s - loss: 0.2852 - accuracy: 0.8938\n",
      "Epoch 00007: val_loss improved from 0.35217 to 0.34342, saving model to my_keras_model.h5\n",
      "750/750 [==============================] - 2s 2ms/step - loss: 0.2859 - accuracy: 0.8934 - val_loss: 0.3434 - val_accuracy: 0.8781\n",
      "Epoch 8/50\n",
      "728/750 [============================>.] - ETA: 0s - loss: 0.2724 - accuracy: 0.8974\n",
      "Epoch 00008: val_loss did not improve from 0.34342\n",
      "750/750 [==============================] - 1s 2ms/step - loss: 0.2727 - accuracy: 0.8973 - val_loss: 0.3485 - val_accuracy: 0.8772\n",
      "Epoch 9/50\n",
      "750/750 [==============================] - ETA: 0s - loss: 0.2629 - accuracy: 0.9016\n",
      "Epoch 00009: val_loss improved from 0.34342 to 0.32325, saving model to my_keras_model.h5\n",
      "750/750 [==============================] - 1s 2ms/step - loss: 0.2629 - accuracy: 0.9016 - val_loss: 0.3232 - val_accuracy: 0.8843\n",
      "Epoch 10/50\n",
      "732/750 [============================>.] - ETA: 0s - loss: 0.2556 - accuracy: 0.9053\n",
      "Epoch 00010: val_loss did not improve from 0.32325\n",
      "750/750 [==============================] - 1s 2ms/step - loss: 0.2557 - accuracy: 0.9052 - val_loss: 0.3273 - val_accuracy: 0.8863\n",
      "Epoch 11/50\n",
      "731/750 [============================>.] - ETA: 0s - loss: 0.2460 - accuracy: 0.9092\n",
      "Epoch 00011: val_loss did not improve from 0.32325\n",
      "750/750 [==============================] - 1s 2ms/step - loss: 0.2468 - accuracy: 0.9090 - val_loss: 0.3330 - val_accuracy: 0.8820\n",
      "Epoch 12/50\n",
      "723/750 [===========================>..] - ETA: 0s - loss: 0.2399 - accuracy: 0.9107\n",
      "Epoch 00012: val_loss did not improve from 0.32325\n",
      "750/750 [==============================] - 1s 1ms/step - loss: 0.2399 - accuracy: 0.9107 - val_loss: 0.3337 - val_accuracy: 0.8814\n",
      "Epoch 13/50\n",
      "747/750 [============================>.] - ETA: 0s - loss: 0.2343 - accuracy: 0.9126\n",
      "Epoch 00013: val_loss did not improve from 0.32325\n",
      "750/750 [==============================] - 1s 2ms/step - loss: 0.2346 - accuracy: 0.9125 - val_loss: 0.3283 - val_accuracy: 0.8871\n",
      "Epoch 14/50\n",
      "726/750 [============================>.] - ETA: 0s - loss: 0.2272 - accuracy: 0.9145\n",
      "Epoch 00014: val_loss did not improve from 0.32325\n",
      "750/750 [==============================] - 1s 1ms/step - loss: 0.2270 - accuracy: 0.9148 - val_loss: 0.3400 - val_accuracy: 0.8751\n",
      "Epoch 15/50\n",
      "721/750 [===========================>..] - ETA: 0s - loss: 0.2220 - accuracy: 0.9169\n",
      "Epoch 00015: val_loss improved from 0.32325 to 0.31704, saving model to my_keras_model.h5\n",
      "750/750 [==============================] - 1s 2ms/step - loss: 0.2220 - accuracy: 0.9167 - val_loss: 0.3170 - val_accuracy: 0.8877\n",
      "Epoch 16/50\n",
      "727/750 [============================>.] - ETA: 0s - loss: 0.2160 - accuracy: 0.9188\n",
      "Epoch 00016: val_loss did not improve from 0.31704\n",
      "750/750 [==============================] - 1s 2ms/step - loss: 0.2165 - accuracy: 0.9184 - val_loss: 0.3283 - val_accuracy: 0.8867\n",
      "Epoch 17/50\n",
      "735/750 [============================>.] - ETA: 0s - loss: 0.2125 - accuracy: 0.9202\n",
      "Epoch 00017: val_loss did not improve from 0.31704\n",
      "750/750 [==============================] - 1s 2ms/step - loss: 0.2124 - accuracy: 0.9200 - val_loss: 0.3329 - val_accuracy: 0.8873\n",
      "Epoch 18/50\n",
      "743/750 [============================>.] - ETA: 0s - loss: 0.2074 - accuracy: 0.9203\n",
      "Epoch 00018: val_loss did not improve from 0.31704\n",
      "750/750 [==============================] - 1s 2ms/step - loss: 0.2070 - accuracy: 0.9203 - val_loss: 0.3333 - val_accuracy: 0.8908\n",
      "Epoch 19/50\n",
      "734/750 [============================>.] - ETA: 0s - loss: 0.1995 - accuracy: 0.9241\n",
      "Epoch 00019: val_loss did not improve from 0.31704\n",
      "750/750 [==============================] - 1s 2ms/step - loss: 0.2001 - accuracy: 0.9239 - val_loss: 0.3430 - val_accuracy: 0.8808\n",
      "Epoch 20/50\n",
      "733/750 [============================>.] - ETA: 0s - loss: 0.1938 - accuracy: 0.9265\n",
      "Epoch 00020: val_loss did not improve from 0.31704\n",
      "750/750 [==============================] - 1s 2ms/step - loss: 0.1939 - accuracy: 0.9264 - val_loss: 0.3439 - val_accuracy: 0.8856\n",
      "Epoch 21/50\n",
      "734/750 [============================>.] - ETA: 0s - loss: 0.1919 - accuracy: 0.9269\n",
      "Epoch 00021: val_loss did not improve from 0.31704\n",
      "750/750 [==============================] - 1s 2ms/step - loss: 0.1916 - accuracy: 0.9271 - val_loss: 0.3415 - val_accuracy: 0.8895\n",
      "Epoch 22/50\n",
      "749/750 [============================>.] - ETA: 0s - loss: 0.1861 - accuracy: 0.9290\n",
      "Epoch 00022: val_loss did not improve from 0.31704\n",
      "750/750 [==============================] - 1s 1ms/step - loss: 0.1862 - accuracy: 0.9289 - val_loss: 0.3682 - val_accuracy: 0.8868\n",
      "Epoch 23/50\n",
      "729/750 [============================>.] - ETA: 0s - loss: 0.1850 - accuracy: 0.9301\n",
      "Epoch 00023: val_loss did not improve from 0.31704\n",
      "750/750 [==============================] - 1s 2ms/step - loss: 0.1848 - accuracy: 0.9300 - val_loss: 0.3551 - val_accuracy: 0.8873\n",
      "Epoch 24/50\n",
      "749/750 [============================>.] - ETA: 0s - loss: 0.1758 - accuracy: 0.9330\n",
      "Epoch 00024: val_loss did not improve from 0.31704\n",
      "750/750 [==============================] - 1s 2ms/step - loss: 0.1757 - accuracy: 0.9330 - val_loss: 0.3434 - val_accuracy: 0.8938\n",
      "Epoch 25/50\n",
      "713/750 [===========================>..] - ETA: 0s - loss: 0.1756 - accuracy: 0.9334\n",
      "Epoch 00025: val_loss did not improve from 0.31704\n",
      "\n",
      "Epoch 00025: ReduceLROnPlateau reducing learning rate to 0.00010000000474974513.\n",
      "750/750 [==============================] - 1s 1ms/step - loss: 0.1751 - accuracy: 0.9336 - val_loss: 0.3682 - val_accuracy: 0.8823\n",
      "Epoch 26/50\n",
      "715/750 [===========================>..] - ETA: 0s - loss: 0.1309 - accuracy: 0.9516\n",
      "Epoch 00026: val_loss did not improve from 0.31704\n",
      "750/750 [==============================] - 1s 1ms/step - loss: 0.1311 - accuracy: 0.9515 - val_loss: 0.3431 - val_accuracy: 0.8952\n",
      "Epoch 27/50\n",
      "729/750 [============================>.] - ETA: 0s - loss: 0.1233 - accuracy: 0.9546\n",
      "Epoch 00027: val_loss did not improve from 0.31704\n",
      "750/750 [==============================] - 1s 2ms/step - loss: 0.1234 - accuracy: 0.9545 - val_loss: 0.3441 - val_accuracy: 0.8954\n",
      "Epoch 28/50\n",
      "747/750 [============================>.] - ETA: 0s - loss: 0.1201 - accuracy: 0.9562\n",
      "Epoch 00028: val_loss did not improve from 0.31704\n",
      "750/750 [==============================] - 1s 2ms/step - loss: 0.1204 - accuracy: 0.9560 - val_loss: 0.3502 - val_accuracy: 0.8950\n"
     ]
    },
    {
     "name": "stdout",
     "output_type": "stream",
     "text": [
      "Epoch 29/50\n",
      "748/750 [============================>.] - ETA: 0s - loss: 0.1183 - accuracy: 0.9570\n",
      "Epoch 00029: val_loss did not improve from 0.31704\n",
      "750/750 [==============================] - 1s 1ms/step - loss: 0.1182 - accuracy: 0.9570 - val_loss: 0.3566 - val_accuracy: 0.8966\n",
      "Epoch 30/50\n",
      "711/750 [===========================>..] - ETA: 0s - loss: 0.1146 - accuracy: 0.9584\n",
      "Epoch 00030: val_loss did not improve from 0.31704\n",
      "750/750 [==============================] - 1s 2ms/step - loss: 0.1159 - accuracy: 0.9579 - val_loss: 0.3543 - val_accuracy: 0.8947\n",
      "Epoch 31/50\n",
      "711/750 [===========================>..] - ETA: 0s - loss: 0.1142 - accuracy: 0.9588\n",
      "Epoch 00031: val_loss did not improve from 0.31704\n",
      "750/750 [==============================] - 1s 2ms/step - loss: 0.1137 - accuracy: 0.9590 - val_loss: 0.3646 - val_accuracy: 0.8953\n",
      "Epoch 32/50\n",
      "747/750 [============================>.] - ETA: 0s - loss: 0.1115 - accuracy: 0.9600\n",
      "Epoch 00032: val_loss did not improve from 0.31704\n",
      "750/750 [==============================] - 1s 1ms/step - loss: 0.1117 - accuracy: 0.9599 - val_loss: 0.3665 - val_accuracy: 0.8964\n",
      "Epoch 33/50\n",
      "730/750 [============================>.] - ETA: 0s - loss: 0.1093 - accuracy: 0.9609\n",
      "Epoch 00033: val_loss did not improve from 0.31704\n",
      "750/750 [==============================] - 1s 1ms/step - loss: 0.1094 - accuracy: 0.9607 - val_loss: 0.3682 - val_accuracy: 0.8974\n",
      "Epoch 34/50\n",
      "747/750 [============================>.] - ETA: 0s - loss: 0.1081 - accuracy: 0.9612\n",
      "Epoch 00034: val_loss did not improve from 0.31704\n",
      "750/750 [==============================] - 1s 1ms/step - loss: 0.1081 - accuracy: 0.9613 - val_loss: 0.3792 - val_accuracy: 0.8946\n",
      "Epoch 35/50\n",
      "718/750 [===========================>..] - ETA: 0s - loss: 0.1067 - accuracy: 0.9619\n",
      "Epoch 00035: val_loss did not improve from 0.31704\n",
      "\n",
      "Epoch 00035: ReduceLROnPlateau reducing learning rate to 1.0000000474974514e-05.\n",
      "750/750 [==============================] - 1s 2ms/step - loss: 0.1064 - accuracy: 0.9621 - val_loss: 0.3844 - val_accuracy: 0.8948\n",
      "Epoch 36/50\n",
      "744/750 [============================>.] - ETA: 0s - loss: 0.1012 - accuracy: 0.9645\n",
      "Epoch 00036: val_loss did not improve from 0.31704\n",
      "750/750 [==============================] - 1s 1ms/step - loss: 0.1009 - accuracy: 0.9646 - val_loss: 0.3801 - val_accuracy: 0.8957\n",
      "Epoch 37/50\n",
      "721/750 [===========================>..] - ETA: 0s - loss: 0.1000 - accuracy: 0.9648 ETA: 0s - loss: 0.1002 - accuracy: 0.96\n",
      "Epoch 00037: val_loss did not improve from 0.31704\n",
      "750/750 [==============================] - 1s 2ms/step - loss: 0.0999 - accuracy: 0.9648 - val_loss: 0.3801 - val_accuracy: 0.8959\n",
      "Epoch 38/50\n",
      "731/750 [============================>.] - ETA: 0s - loss: 0.1001 - accuracy: 0.9647\n",
      "Epoch 00038: val_loss did not improve from 0.31704\n",
      "750/750 [==============================] - 1s 2ms/step - loss: 0.0995 - accuracy: 0.9650 - val_loss: 0.3815 - val_accuracy: 0.8963\n",
      "Epoch 39/50\n",
      "716/750 [===========================>..] - ETA: 0s - loss: 0.0991 - accuracy: 0.9655\n",
      "Epoch 00039: val_loss did not improve from 0.31704\n",
      "750/750 [==============================] - 1s 1ms/step - loss: 0.0993 - accuracy: 0.9652 - val_loss: 0.3809 - val_accuracy: 0.8955\n",
      "Epoch 40/50\n",
      "738/750 [============================>.] - ETA: 0s - loss: 0.0989 - accuracy: 0.9653\n",
      "Epoch 00040: val_loss did not improve from 0.31704\n",
      "750/750 [==============================] - 1s 2ms/step - loss: 0.0991 - accuracy: 0.9653 - val_loss: 0.3828 - val_accuracy: 0.8962\n",
      "Epoch 41/50\n",
      "715/750 [===========================>..] - ETA: 0s - loss: 0.0981 - accuracy: 0.9658\n",
      "Epoch 00041: val_loss did not improve from 0.31704\n",
      "750/750 [==============================] - 1s 1ms/step - loss: 0.0988 - accuracy: 0.9655 - val_loss: 0.3830 - val_accuracy: 0.8955\n",
      "Epoch 42/50\n",
      "716/750 [===========================>..] - ETA: 0s - loss: 0.0987 - accuracy: 0.9655\n",
      "Epoch 00042: val_loss did not improve from 0.31704\n",
      "750/750 [==============================] - 1s 2ms/step - loss: 0.0987 - accuracy: 0.9654 - val_loss: 0.3841 - val_accuracy: 0.8951\n",
      "Epoch 43/50\n",
      "718/750 [===========================>..] - ETA: 0s - loss: 0.0984 - accuracy: 0.9659\n",
      "Epoch 00043: val_loss did not improve from 0.31704\n",
      "750/750 [==============================] - 1s 2ms/step - loss: 0.0984 - accuracy: 0.9657 - val_loss: 0.3845 - val_accuracy: 0.8957\n",
      "Epoch 44/50\n",
      "739/750 [============================>.] - ETA: 0s - loss: 0.0983 - accuracy: 0.9657\n",
      "Epoch 00044: val_loss did not improve from 0.31704\n",
      "750/750 [==============================] - 1s 2ms/step - loss: 0.0982 - accuracy: 0.9657 - val_loss: 0.3846 - val_accuracy: 0.8954\n",
      "Epoch 45/50\n",
      "735/750 [============================>.] - ETA: 0s - loss: 0.0983 - accuracy: 0.96 - ETA: 0s - loss: 0.0981 - accuracy: 0.9657\n",
      "Epoch 00045: val_loss did not improve from 0.31704\n",
      "\n",
      "Epoch 00045: ReduceLROnPlateau reducing learning rate to 1.0000000656873453e-06.\n",
      "750/750 [==============================] - 1s 2ms/step - loss: 0.0980 - accuracy: 0.9658 - val_loss: 0.3853 - val_accuracy: 0.8953\n"
     ]
    }
   ],
   "source": [
    "history = model.fit(x=train_images, y=train_labels_ohe,\n",
    "                   validation_split = 0.2, batch_size=64, \n",
    "                   epochs=50, verbose=1,\n",
    "                   callbacks=[checkpoint_cb, early_stopping_cb,\n",
    "                             reducelr_cb])"
   ]
  },
  {
   "cell_type": "code",
   "execution_count": 22,
   "id": "6858687d",
   "metadata": {},
   "outputs": [
    {
     "data": {
      "text/plain": [
       "[0.544421374797821,\n",
       " 0.3758244216442108,\n",
       " 0.37568724155426025,\n",
       " 0.3530378043651581,\n",
       " 0.35418346524238586,\n",
       " 0.3521650433540344,\n",
       " 0.3434181809425354,\n",
       " 0.34854215383529663,\n",
       " 0.3232496678829193,\n",
       " 0.3273243308067322,\n",
       " 0.3329830467700958,\n",
       " 0.33366814255714417,\n",
       " 0.328340619802475,\n",
       " 0.3399718105792999,\n",
       " 0.31704026460647583,\n",
       " 0.3283231556415558,\n",
       " 0.3329187333583832,\n",
       " 0.33329084515571594,\n",
       " 0.34296002984046936,\n",
       " 0.34388819336891174,\n",
       " 0.34148746728897095,\n",
       " 0.3681814670562744,\n",
       " 0.35506054759025574,\n",
       " 0.3434486985206604,\n",
       " 0.3682286739349365,\n",
       " 0.343129426240921,\n",
       " 0.34412726759910583,\n",
       " 0.3501587212085724,\n",
       " 0.35662466287612915,\n",
       " 0.35429492592811584,\n",
       " 0.36455994844436646,\n",
       " 0.3665291666984558,\n",
       " 0.3681739568710327,\n",
       " 0.3792269825935364,\n",
       " 0.38443437218666077,\n",
       " 0.3801420032978058,\n",
       " 0.38011986017227173,\n",
       " 0.3814912438392639,\n",
       " 0.38087475299835205,\n",
       " 0.38283824920654297,\n",
       " 0.38304007053375244,\n",
       " 0.38414183259010315,\n",
       " 0.38453471660614014,\n",
       " 0.3845806419849396,\n",
       " 0.3852643668651581]"
      ]
     },
     "execution_count": 22,
     "metadata": {},
     "output_type": "execute_result"
    }
   ],
   "source": [
    "history.history['val_loss']"
   ]
  },
  {
   "cell_type": "code",
   "execution_count": 23,
   "id": "88c28ba4",
   "metadata": {},
   "outputs": [
    {
     "data": {
      "text/plain": [
       "[0.8066666722297668,\n",
       " 0.8644166588783264,\n",
       " 0.8615833520889282,\n",
       " 0.8702499866485596,\n",
       " 0.8741666674613953,\n",
       " 0.8715000152587891,\n",
       " 0.878083348274231,\n",
       " 0.8771666884422302,\n",
       " 0.8843333125114441,\n",
       " 0.8863333463668823,\n",
       " 0.8820000290870667,\n",
       " 0.8814166784286499,\n",
       " 0.8870833516120911,\n",
       " 0.875083327293396,\n",
       " 0.887666642665863,\n",
       " 0.8867499828338623,\n",
       " 0.8872500061988831,\n",
       " 0.89083331823349,\n",
       " 0.8808333277702332,\n",
       " 0.8855833411216736,\n",
       " 0.8895000219345093,\n",
       " 0.8868333101272583,\n",
       " 0.8872500061988831,\n",
       " 0.893833339214325,\n",
       " 0.8822500109672546,\n",
       " 0.8951666951179504,\n",
       " 0.8954166769981384,\n",
       " 0.8949999809265137,\n",
       " 0.8965833187103271,\n",
       " 0.8946666717529297,\n",
       " 0.8952500224113464,\n",
       " 0.8964166641235352,\n",
       " 0.8974166512489319,\n",
       " 0.8945833444595337,\n",
       " 0.8948333263397217,\n",
       " 0.8956666588783264,\n",
       " 0.8959166407585144,\n",
       " 0.8963333368301392,\n",
       " 0.8955000042915344,\n",
       " 0.8961666822433472,\n",
       " 0.8955000042915344,\n",
       " 0.8950833082199097,\n",
       " 0.8957499861717224,\n",
       " 0.8954166769981384,\n",
       " 0.8953333497047424]"
      ]
     },
     "execution_count": 23,
     "metadata": {},
     "output_type": "execute_result"
    }
   ],
   "source": [
    "history.history['val_accuracy']"
   ]
  },
  {
   "cell_type": "markdown",
   "id": "ab093149",
   "metadata": {},
   "source": [
    "### 시험데이터로 예측"
   ]
  },
  {
   "cell_type": "code",
   "execution_count": 24,
   "id": "fe0bfbdb",
   "metadata": {},
   "outputs": [],
   "source": [
    "predict_prob = model.predict(test_images)"
   ]
  },
  {
   "cell_type": "code",
   "execution_count": 25,
   "id": "0947c8de",
   "metadata": {},
   "outputs": [
    {
     "data": {
      "text/plain": [
       "(10000, 10)"
      ]
     },
     "execution_count": 25,
     "metadata": {},
     "output_type": "execute_result"
    }
   ],
   "source": [
    "predict_prob.shape"
   ]
  },
  {
   "cell_type": "code",
   "execution_count": 26,
   "id": "02ee1ae4",
   "metadata": {},
   "outputs": [
    {
     "data": {
      "text/plain": [
       "array([9.2389714e-09, 1.0344701e-06, 1.5001479e-08, 1.9488213e-09,\n",
       "       1.4217942e-08, 2.0780315e-04, 6.0352128e-09, 8.0871033e-03,\n",
       "       2.5979714e-09, 9.9170399e-01], dtype=float32)"
      ]
     },
     "execution_count": 26,
     "metadata": {},
     "output_type": "execute_result"
    }
   ],
   "source": [
    "predict_prob[0]"
   ]
  },
  {
   "cell_type": "code",
   "execution_count": 27,
   "id": "a759f252",
   "metadata": {},
   "outputs": [
    {
     "data": {
      "text/plain": [
       "9.0"
      ]
     },
     "execution_count": 27,
     "metadata": {},
     "output_type": "execute_result"
    }
   ],
   "source": [
    "test_labels[0]"
   ]
  },
  {
   "cell_type": "code",
   "execution_count": 28,
   "id": "53867f6e",
   "metadata": {},
   "outputs": [],
   "source": [
    "test_image0_predict = model.predict(np.reshape(test_images[0], (-1, 28, 28)))"
   ]
  },
  {
   "cell_type": "code",
   "execution_count": 29,
   "id": "f8ef2717",
   "metadata": {},
   "outputs": [
    {
     "data": {
      "text/plain": [
       "array([[9.2389714e-09, 1.0344701e-06, 1.5001479e-08, 1.9488213e-09,\n",
       "        1.4217969e-08, 2.0780315e-04, 6.0352128e-09, 8.0871033e-03,\n",
       "        2.5979665e-09, 9.9170399e-01]], dtype=float32)"
      ]
     },
     "execution_count": 29,
     "metadata": {},
     "output_type": "execute_result"
    }
   ],
   "source": [
    "test_image0_predict"
   ]
  },
  {
   "cell_type": "code",
   "execution_count": 30,
   "id": "7ac0c871",
   "metadata": {},
   "outputs": [
    {
     "data": {
      "text/plain": [
       "(1, 28, 28)"
      ]
     },
     "execution_count": 30,
     "metadata": {},
     "output_type": "execute_result"
    }
   ],
   "source": [
    "np.reshape(test_images[0], (-1, 28, 28)).shape"
   ]
  },
  {
   "cell_type": "code",
   "execution_count": 31,
   "id": "74e4a8fa",
   "metadata": {},
   "outputs": [
    {
     "data": {
      "text/plain": [
       "(1, 28, 28)"
      ]
     },
     "execution_count": 31,
     "metadata": {},
     "output_type": "execute_result"
    }
   ],
   "source": [
    "np.expand_dims(test_images[0], axis=0).shape"
   ]
  },
  {
   "cell_type": "code",
   "execution_count": 32,
   "id": "03b6419e",
   "metadata": {},
   "outputs": [
    {
     "name": "stdout",
     "output_type": "stream",
     "text": [
      " D 드라이브의 볼륨: 새 볼륨\n",
      " 볼륨 일련 번호: 269C-4EA6\n",
      "\n",
      " D:\\jupy\\211014 디렉터리\n",
      "\n",
      "2021-10-14  오후 11:03    <DIR>          .\n",
      "2021-10-14  오후 11:03    <DIR>          ..\n",
      "2021-10-14  오후 10:33    <DIR>          .ipynb_checkpoints\n",
      "2021-10-14  오후 12:56               821 211014 class 3.ipynb\n",
      "2021-10-14  오전 09:14               779 211014 class1 .ipynb\n",
      "2021-10-14  오후 02:47             2,037 211014 class5 .ipynb\n",
      "2021-10-14  오후 03:51             6,395 211014 class6.ipynb\n",
      "2021-10-14  오후 06:17            13,006 211014 class7.ipynb\n",
      "2021-10-14  오후 10:30            68,031 211014 revision1 fashion.ipynb\n",
      "2021-10-14  오후 11:03            63,519 211014 revision2 fashion mnist 2.ipynb\n",
      "2021-10-14  오후 02:11    <DIR>          dataset\n",
      "2021-10-14  오후 09:43            69,528 Deep_Learning_day_3_(keras_Fashion_MNIST).ipynb\n",
      "2021-10-14  오후 08:26            54,112 Deep_Learning_day_3_(keras_MNIST).ipynb\n",
      "2021-10-14  오후 09:43            82,441 Deep_Learning_day_4_(functional_api).ipynb\n",
      "2021-10-14  오후 10:57         1,103,656 my_keras_model.h5\n",
      "2021-10-14  오후 10:00                72 Untitled.ipynb\n",
      "              12개 파일           1,464,397 바이트\n",
      "               4개 디렉터리  532,321,153,024 바이트 남음\n"
     ]
    }
   ],
   "source": [
    "ls"
   ]
  },
  {
   "cell_type": "code",
   "execution_count": 33,
   "id": "5f437829",
   "metadata": {},
   "outputs": [],
   "source": [
    "# 모델 저장 \n",
    "saved_model = load_model('my_keras_model.h5')"
   ]
  },
  {
   "cell_type": "code",
   "execution_count": 34,
   "id": "a736d3e7",
   "metadata": {},
   "outputs": [
    {
     "name": "stdout",
     "output_type": "stream",
     "text": [
      "100/100 [==============================] - 0s 1ms/step - loss: 0.3420 - accuracy: 0.8830\n"
     ]
    },
    {
     "data": {
      "text/plain": [
       "[0.34204965829849243, 0.8830000162124634]"
      ]
     },
     "execution_count": 34,
     "metadata": {},
     "output_type": "execute_result"
    }
   ],
   "source": [
    "#저장 모델 평가 \n",
    "saved_model.evaluate(test_images, test_labels_ohe, batch_size=100)"
   ]
  },
  {
   "cell_type": "code",
   "execution_count": 35,
   "id": "3093ee3f",
   "metadata": {},
   "outputs": [
    {
     "data": {
      "text/plain": [
       "<matplotlib.legend.Legend at 0x1efcf0f68b0>"
      ]
     },
     "execution_count": 35,
     "metadata": {},
     "output_type": "execute_result"
    },
    {
     "data": {
      "image/png": "[encoded data removed]",
      "text/plain": [
       "<Figure size 432x288 with 1 Axes>"
      ]
     },
     "metadata": {
      "needs_background": "light"
     },
     "output_type": "display_data"
    }
   ],
   "source": [
    "plt.plot(history.history['accuracy'], label='train')\n",
    "plt.plot(history.history['val_accuracy'], label='valid')\n",
    "plt.legend()"
   ]
  },
  {
   "cell_type": "code",
   "execution_count": null,
   "id": "a247fffe",
   "metadata": {},
   "outputs": [],
   "source": []
  }
 ],
 "metadata": {
  "kernelspec": {
   "display_name": "Python 3 (ipykernel)",
   "language": "python",
   "name": "python3"
  },
  "language_info": {
   "codemirror_mode": {
    "name": "ipython",
    "version": 3
   },
   "file_extension": ".py",
   "mimetype": "text/x-python",
   "name": "python",
   "nbconvert_exporter": "python",
   "pygments_lexer": "ipython3",
   "version": "3.8.11"
  }
 },
 "nbformat": 4,
 "nbformat_minor": 5
}
